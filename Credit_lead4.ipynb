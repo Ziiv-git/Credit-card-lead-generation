{
  "nbformat": 4,
  "nbformat_minor": 0,
  "metadata": {
    "colab": {
      "name": "Credit-lead4",
      "provenance": []
    },
    "kernelspec": {
      "name": "python3",
      "display_name": "Python 3"
    },
    "language_info": {
      "name": "python"
    }
  },
  "cells": [
    {
      "cell_type": "code",
      "metadata": {
        "colab": {
          "base_uri": "https://localhost:8080/"
        },
        "id": "C7EupO0Xtc_c",
        "outputId": "e65d433f-7554-4dd9-efed-aff336895ddc"
      },
      "source": [
        "!pip install pyforest"
      ],
      "execution_count": 2,
      "outputs": [
        {
          "output_type": "stream",
          "text": [
            "Collecting pyforest\n",
            "  Downloading https://files.pythonhosted.org/packages/8f/85/77a9d2d9ff240822039f3dfd7a3b374d0621a0df5feb5d270a2151f6bb6d/pyforest-1.0.3.tar.gz\n",
            "Building wheels for collected packages: pyforest\n",
            "  Building wheel for pyforest (setup.py) ... \u001b[?25l\u001b[?25hdone\n",
            "  Created wheel for pyforest: filename=pyforest-1.0.3-py2.py3-none-any.whl size=13716 sha256=01eeff17392265d7cbe466f6c6253609cdd454d90e470efc82e42aa688fba24d\n",
            "  Stored in directory: /root/.cache/pip/wheels/af/0b/39/340a7f15fc8d4ff5ab50847b28789afea04452a9d51b9721b5\n",
            "Successfully built pyforest\n",
            "Installing collected packages: pyforest\n",
            "Successfully installed pyforest-1.0.3\n"
          ],
          "name": "stdout"
        }
      ]
    },
    {
      "cell_type": "code",
      "metadata": {
        "id": "4AxKk3YytM_v"
      },
      "source": [
        "# importing libraries\n",
        "from pyforest import *\n",
        "# seeing all the libraries that were imported\n",
        "lazy_imports()\n",
        "import warnings\n",
        "warnings.filterwarnings('ignore')"
      ],
      "execution_count": 3,
      "outputs": []
    },
    {
      "cell_type": "code",
      "metadata": {
        "colab": {
          "base_uri": "https://localhost:8080/",
          "height": 202
        },
        "id": "Bd0MNwOjtbg1",
        "outputId": "4affc236-d4c1-411f-b441-15336e21b8b2"
      },
      "source": [
        "# reading the train dataset\n",
        "df = pd.read_csv('/content/drive/MyDrive/CRedit Card Lead Prediction/train.csv')\n",
        "df.head()"
      ],
      "execution_count": 4,
      "outputs": [
        {
          "output_type": "display_data",
          "data": {
            "application/javascript": [
              "\n",
              "        if (window._pyforest_update_imports_cell) { window._pyforest_update_imports_cell('import pandas as pd'); }\n",
              "    "
            ],
            "text/plain": [
              "<IPython.core.display.Javascript object>"
            ]
          },
          "metadata": {
            "tags": []
          }
        },
        {
          "output_type": "execute_result",
          "data": {
            "text/html": [
              "<div>\n",
              "<style scoped>\n",
              "    .dataframe tbody tr th:only-of-type {\n",
              "        vertical-align: middle;\n",
              "    }\n",
              "\n",
              "    .dataframe tbody tr th {\n",
              "        vertical-align: top;\n",
              "    }\n",
              "\n",
              "    .dataframe thead th {\n",
              "        text-align: right;\n",
              "    }\n",
              "</style>\n",
              "<table border=\"1\" class=\"dataframe\">\n",
              "  <thead>\n",
              "    <tr style=\"text-align: right;\">\n",
              "      <th></th>\n",
              "      <th>ID</th>\n",
              "      <th>Gender</th>\n",
              "      <th>Age</th>\n",
              "      <th>Region_Code</th>\n",
              "      <th>Occupation</th>\n",
              "      <th>Channel_Code</th>\n",
              "      <th>Vintage</th>\n",
              "      <th>Credit_Product</th>\n",
              "      <th>Avg_Account_Balance</th>\n",
              "      <th>Is_Active</th>\n",
              "      <th>Is_Lead</th>\n",
              "    </tr>\n",
              "  </thead>\n",
              "  <tbody>\n",
              "    <tr>\n",
              "      <th>0</th>\n",
              "      <td>NNVBBKZB</td>\n",
              "      <td>Female</td>\n",
              "      <td>73</td>\n",
              "      <td>RG268</td>\n",
              "      <td>Other</td>\n",
              "      <td>X3</td>\n",
              "      <td>43</td>\n",
              "      <td>No</td>\n",
              "      <td>1045696</td>\n",
              "      <td>No</td>\n",
              "      <td>0</td>\n",
              "    </tr>\n",
              "    <tr>\n",
              "      <th>1</th>\n",
              "      <td>IDD62UNG</td>\n",
              "      <td>Female</td>\n",
              "      <td>30</td>\n",
              "      <td>RG277</td>\n",
              "      <td>Salaried</td>\n",
              "      <td>X1</td>\n",
              "      <td>32</td>\n",
              "      <td>No</td>\n",
              "      <td>581988</td>\n",
              "      <td>No</td>\n",
              "      <td>0</td>\n",
              "    </tr>\n",
              "    <tr>\n",
              "      <th>2</th>\n",
              "      <td>HD3DSEMC</td>\n",
              "      <td>Female</td>\n",
              "      <td>56</td>\n",
              "      <td>RG268</td>\n",
              "      <td>Self_Employed</td>\n",
              "      <td>X3</td>\n",
              "      <td>26</td>\n",
              "      <td>No</td>\n",
              "      <td>1484315</td>\n",
              "      <td>Yes</td>\n",
              "      <td>0</td>\n",
              "    </tr>\n",
              "    <tr>\n",
              "      <th>3</th>\n",
              "      <td>BF3NC7KV</td>\n",
              "      <td>Male</td>\n",
              "      <td>34</td>\n",
              "      <td>RG270</td>\n",
              "      <td>Salaried</td>\n",
              "      <td>X1</td>\n",
              "      <td>19</td>\n",
              "      <td>No</td>\n",
              "      <td>470454</td>\n",
              "      <td>No</td>\n",
              "      <td>0</td>\n",
              "    </tr>\n",
              "    <tr>\n",
              "      <th>4</th>\n",
              "      <td>TEASRWXV</td>\n",
              "      <td>Female</td>\n",
              "      <td>30</td>\n",
              "      <td>RG282</td>\n",
              "      <td>Salaried</td>\n",
              "      <td>X1</td>\n",
              "      <td>33</td>\n",
              "      <td>No</td>\n",
              "      <td>886787</td>\n",
              "      <td>No</td>\n",
              "      <td>0</td>\n",
              "    </tr>\n",
              "  </tbody>\n",
              "</table>\n",
              "</div>"
            ],
            "text/plain": [
              "         ID  Gender  Age  ... Avg_Account_Balance Is_Active Is_Lead\n",
              "0  NNVBBKZB  Female   73  ...             1045696        No       0\n",
              "1  IDD62UNG  Female   30  ...              581988        No       0\n",
              "2  HD3DSEMC  Female   56  ...             1484315       Yes       0\n",
              "3  BF3NC7KV    Male   34  ...              470454        No       0\n",
              "4  TEASRWXV  Female   30  ...              886787        No       0\n",
              "\n",
              "[5 rows x 11 columns]"
            ]
          },
          "metadata": {
            "tags": []
          },
          "execution_count": 4
        }
      ]
    },
    {
      "cell_type": "code",
      "metadata": {
        "colab": {
          "base_uri": "https://localhost:8080/"
        },
        "id": "DkfRAp_quvxt",
        "outputId": "3ecd947c-1f63-4448-aa3f-dc0fbecc46ed"
      },
      "source": [
        "# checking duplicate values\n",
        "df.duplicated().sum()"
      ],
      "execution_count": 6,
      "outputs": [
        {
          "output_type": "execute_result",
          "data": {
            "text/plain": [
              "0"
            ]
          },
          "metadata": {
            "tags": []
          },
          "execution_count": 6
        }
      ]
    },
    {
      "cell_type": "code",
      "metadata": {
        "colab": {
          "base_uri": "https://localhost:8080/",
          "height": 202
        },
        "id": "j-u8rYWtu2Rq",
        "outputId": "c31e85a8-91a9-41d1-9c4c-8649e67cee78"
      },
      "source": [
        "# dropping ID column as it would be unique for each customer and it would give no further knowledge to ML\n",
        "df.drop(['ID'], axis=1, inplace=True)\n",
        "df.head()"
      ],
      "execution_count": 7,
      "outputs": [
        {
          "output_type": "execute_result",
          "data": {
            "text/html": [
              "<div>\n",
              "<style scoped>\n",
              "    .dataframe tbody tr th:only-of-type {\n",
              "        vertical-align: middle;\n",
              "    }\n",
              "\n",
              "    .dataframe tbody tr th {\n",
              "        vertical-align: top;\n",
              "    }\n",
              "\n",
              "    .dataframe thead th {\n",
              "        text-align: right;\n",
              "    }\n",
              "</style>\n",
              "<table border=\"1\" class=\"dataframe\">\n",
              "  <thead>\n",
              "    <tr style=\"text-align: right;\">\n",
              "      <th></th>\n",
              "      <th>Gender</th>\n",
              "      <th>Age</th>\n",
              "      <th>Region_Code</th>\n",
              "      <th>Occupation</th>\n",
              "      <th>Channel_Code</th>\n",
              "      <th>Vintage</th>\n",
              "      <th>Credit_Product</th>\n",
              "      <th>Avg_Account_Balance</th>\n",
              "      <th>Is_Active</th>\n",
              "      <th>Is_Lead</th>\n",
              "    </tr>\n",
              "  </thead>\n",
              "  <tbody>\n",
              "    <tr>\n",
              "      <th>0</th>\n",
              "      <td>Female</td>\n",
              "      <td>73</td>\n",
              "      <td>RG268</td>\n",
              "      <td>Other</td>\n",
              "      <td>X3</td>\n",
              "      <td>43</td>\n",
              "      <td>No</td>\n",
              "      <td>1045696</td>\n",
              "      <td>No</td>\n",
              "      <td>0</td>\n",
              "    </tr>\n",
              "    <tr>\n",
              "      <th>1</th>\n",
              "      <td>Female</td>\n",
              "      <td>30</td>\n",
              "      <td>RG277</td>\n",
              "      <td>Salaried</td>\n",
              "      <td>X1</td>\n",
              "      <td>32</td>\n",
              "      <td>No</td>\n",
              "      <td>581988</td>\n",
              "      <td>No</td>\n",
              "      <td>0</td>\n",
              "    </tr>\n",
              "    <tr>\n",
              "      <th>2</th>\n",
              "      <td>Female</td>\n",
              "      <td>56</td>\n",
              "      <td>RG268</td>\n",
              "      <td>Self_Employed</td>\n",
              "      <td>X3</td>\n",
              "      <td>26</td>\n",
              "      <td>No</td>\n",
              "      <td>1484315</td>\n",
              "      <td>Yes</td>\n",
              "      <td>0</td>\n",
              "    </tr>\n",
              "    <tr>\n",
              "      <th>3</th>\n",
              "      <td>Male</td>\n",
              "      <td>34</td>\n",
              "      <td>RG270</td>\n",
              "      <td>Salaried</td>\n",
              "      <td>X1</td>\n",
              "      <td>19</td>\n",
              "      <td>No</td>\n",
              "      <td>470454</td>\n",
              "      <td>No</td>\n",
              "      <td>0</td>\n",
              "    </tr>\n",
              "    <tr>\n",
              "      <th>4</th>\n",
              "      <td>Female</td>\n",
              "      <td>30</td>\n",
              "      <td>RG282</td>\n",
              "      <td>Salaried</td>\n",
              "      <td>X1</td>\n",
              "      <td>33</td>\n",
              "      <td>No</td>\n",
              "      <td>886787</td>\n",
              "      <td>No</td>\n",
              "      <td>0</td>\n",
              "    </tr>\n",
              "  </tbody>\n",
              "</table>\n",
              "</div>"
            ],
            "text/plain": [
              "   Gender  Age Region_Code  ... Avg_Account_Balance Is_Active  Is_Lead\n",
              "0  Female   73       RG268  ...             1045696        No        0\n",
              "1  Female   30       RG277  ...              581988        No        0\n",
              "2  Female   56       RG268  ...             1484315       Yes        0\n",
              "3    Male   34       RG270  ...              470454        No        0\n",
              "4  Female   30       RG282  ...              886787        No        0\n",
              "\n",
              "[5 rows x 10 columns]"
            ]
          },
          "metadata": {
            "tags": []
          },
          "execution_count": 7
        }
      ]
    },
    {
      "cell_type": "code",
      "metadata": {
        "colab": {
          "base_uri": "https://localhost:8080/"
        },
        "id": "AOBylDGptki8",
        "outputId": "4baa87a7-9ef3-4e58-800e-c65510b98233"
      },
      "source": [
        "# checking for missing values \n",
        "df.isnull().sum()"
      ],
      "execution_count": 8,
      "outputs": [
        {
          "output_type": "execute_result",
          "data": {
            "text/plain": [
              "Gender                     0\n",
              "Age                        0\n",
              "Region_Code                0\n",
              "Occupation                 0\n",
              "Channel_Code               0\n",
              "Vintage                    0\n",
              "Credit_Product         29325\n",
              "Avg_Account_Balance        0\n",
              "Is_Active                  0\n",
              "Is_Lead                    0\n",
              "dtype: int64"
            ]
          },
          "metadata": {
            "tags": []
          },
          "execution_count": 8
        }
      ]
    },
    {
      "cell_type": "code",
      "metadata": {
        "colab": {
          "base_uri": "https://localhost:8080/"
        },
        "id": "0A-7CQVtvAjh",
        "outputId": "52c448d1-9a6c-4e83-bacc-c0e04636bb36"
      },
      "source": [
        "# seperating independent and dependent features\n",
        "x = df.iloc[:, :-1]\n",
        "y = df['Is_Lead']\n",
        "x.shape, y.shape"
      ],
      "execution_count": 9,
      "outputs": [
        {
          "output_type": "execute_result",
          "data": {
            "text/plain": [
              "((245725, 9), (245725,))"
            ]
          },
          "metadata": {
            "tags": []
          },
          "execution_count": 9
        }
      ]
    },
    {
      "cell_type": "code",
      "metadata": {
        "colab": {
          "base_uri": "https://localhost:8080/",
          "height": 202
        },
        "id": "jA-qw9L3vRtm",
        "outputId": "c0b2ce27-835c-4efe-f978-712197ccfab9"
      },
      "source": [
        "test = pd.read_csv('/content/drive/MyDrive/CRedit Card Lead Prediction/test.csv')\n",
        "test.head()"
      ],
      "execution_count": 10,
      "outputs": [
        {
          "output_type": "display_data",
          "data": {
            "application/javascript": [
              "\n",
              "        if (window._pyforest_update_imports_cell) { window._pyforest_update_imports_cell('import pandas as pd'); }\n",
              "    "
            ],
            "text/plain": [
              "<IPython.core.display.Javascript object>"
            ]
          },
          "metadata": {
            "tags": []
          }
        },
        {
          "output_type": "execute_result",
          "data": {
            "text/html": [
              "<div>\n",
              "<style scoped>\n",
              "    .dataframe tbody tr th:only-of-type {\n",
              "        vertical-align: middle;\n",
              "    }\n",
              "\n",
              "    .dataframe tbody tr th {\n",
              "        vertical-align: top;\n",
              "    }\n",
              "\n",
              "    .dataframe thead th {\n",
              "        text-align: right;\n",
              "    }\n",
              "</style>\n",
              "<table border=\"1\" class=\"dataframe\">\n",
              "  <thead>\n",
              "    <tr style=\"text-align: right;\">\n",
              "      <th></th>\n",
              "      <th>ID</th>\n",
              "      <th>Gender</th>\n",
              "      <th>Age</th>\n",
              "      <th>Region_Code</th>\n",
              "      <th>Occupation</th>\n",
              "      <th>Channel_Code</th>\n",
              "      <th>Vintage</th>\n",
              "      <th>Credit_Product</th>\n",
              "      <th>Avg_Account_Balance</th>\n",
              "      <th>Is_Active</th>\n",
              "    </tr>\n",
              "  </thead>\n",
              "  <tbody>\n",
              "    <tr>\n",
              "      <th>0</th>\n",
              "      <td>VBENBARO</td>\n",
              "      <td>Male</td>\n",
              "      <td>29</td>\n",
              "      <td>RG254</td>\n",
              "      <td>Other</td>\n",
              "      <td>X1</td>\n",
              "      <td>25</td>\n",
              "      <td>Yes</td>\n",
              "      <td>742366</td>\n",
              "      <td>No</td>\n",
              "    </tr>\n",
              "    <tr>\n",
              "      <th>1</th>\n",
              "      <td>CCMEWNKY</td>\n",
              "      <td>Male</td>\n",
              "      <td>43</td>\n",
              "      <td>RG268</td>\n",
              "      <td>Other</td>\n",
              "      <td>X2</td>\n",
              "      <td>49</td>\n",
              "      <td>NaN</td>\n",
              "      <td>925537</td>\n",
              "      <td>No</td>\n",
              "    </tr>\n",
              "    <tr>\n",
              "      <th>2</th>\n",
              "      <td>VK3KGA9M</td>\n",
              "      <td>Male</td>\n",
              "      <td>31</td>\n",
              "      <td>RG270</td>\n",
              "      <td>Salaried</td>\n",
              "      <td>X1</td>\n",
              "      <td>14</td>\n",
              "      <td>No</td>\n",
              "      <td>215949</td>\n",
              "      <td>No</td>\n",
              "    </tr>\n",
              "    <tr>\n",
              "      <th>3</th>\n",
              "      <td>TT8RPZVC</td>\n",
              "      <td>Male</td>\n",
              "      <td>29</td>\n",
              "      <td>RG272</td>\n",
              "      <td>Other</td>\n",
              "      <td>X1</td>\n",
              "      <td>33</td>\n",
              "      <td>No</td>\n",
              "      <td>868070</td>\n",
              "      <td>No</td>\n",
              "    </tr>\n",
              "    <tr>\n",
              "      <th>4</th>\n",
              "      <td>SHQZEYTZ</td>\n",
              "      <td>Female</td>\n",
              "      <td>29</td>\n",
              "      <td>RG270</td>\n",
              "      <td>Other</td>\n",
              "      <td>X1</td>\n",
              "      <td>19</td>\n",
              "      <td>No</td>\n",
              "      <td>657087</td>\n",
              "      <td>No</td>\n",
              "    </tr>\n",
              "  </tbody>\n",
              "</table>\n",
              "</div>"
            ],
            "text/plain": [
              "         ID  Gender  Age  ... Credit_Product Avg_Account_Balance Is_Active\n",
              "0  VBENBARO    Male   29  ...            Yes              742366        No\n",
              "1  CCMEWNKY    Male   43  ...            NaN              925537        No\n",
              "2  VK3KGA9M    Male   31  ...             No              215949        No\n",
              "3  TT8RPZVC    Male   29  ...             No              868070        No\n",
              "4  SHQZEYTZ  Female   29  ...             No              657087        No\n",
              "\n",
              "[5 rows x 10 columns]"
            ]
          },
          "metadata": {
            "tags": []
          },
          "execution_count": 10
        }
      ]
    },
    {
      "cell_type": "code",
      "metadata": {
        "colab": {
          "base_uri": "https://localhost:8080/"
        },
        "id": "8fWdD9vMvcNv",
        "outputId": "3107c716-8bfe-4e67-f13a-54b7fd27636d"
      },
      "source": [
        "# checking duplicate values\n",
        "test.duplicated().sum()"
      ],
      "execution_count": 11,
      "outputs": [
        {
          "output_type": "execute_result",
          "data": {
            "text/plain": [
              "0"
            ]
          },
          "metadata": {
            "tags": []
          },
          "execution_count": 11
        }
      ]
    },
    {
      "cell_type": "code",
      "metadata": {
        "colab": {
          "base_uri": "https://localhost:8080/"
        },
        "id": "xYHcNTwUvgbh",
        "outputId": "b69a5f1b-0e10-4743-bafc-3c6ce0f0be4e"
      },
      "source": [
        "test.isnull().sum()"
      ],
      "execution_count": 12,
      "outputs": [
        {
          "output_type": "execute_result",
          "data": {
            "text/plain": [
              "ID                         0\n",
              "Gender                     0\n",
              "Age                        0\n",
              "Region_Code                0\n",
              "Occupation                 0\n",
              "Channel_Code               0\n",
              "Vintage                    0\n",
              "Credit_Product         12522\n",
              "Avg_Account_Balance        0\n",
              "Is_Active                  0\n",
              "dtype: int64"
            ]
          },
          "metadata": {
            "tags": []
          },
          "execution_count": 12
        }
      ]
    },
    {
      "cell_type": "code",
      "metadata": {
        "colab": {
          "base_uri": "https://localhost:8080/",
          "height": 202
        },
        "id": "m5dllEqAvpd_",
        "outputId": "ee4a97c4-4b1e-4e5a-91ea-1be49c6e2b2b"
      },
      "source": [
        "# dropping ID column as it would be unique for each customer and it would give no further knowledge to ML\n",
        "test.drop(['ID'], axis=1, inplace=True)\n",
        "test.head()"
      ],
      "execution_count": 13,
      "outputs": [
        {
          "output_type": "execute_result",
          "data": {
            "text/html": [
              "<div>\n",
              "<style scoped>\n",
              "    .dataframe tbody tr th:only-of-type {\n",
              "        vertical-align: middle;\n",
              "    }\n",
              "\n",
              "    .dataframe tbody tr th {\n",
              "        vertical-align: top;\n",
              "    }\n",
              "\n",
              "    .dataframe thead th {\n",
              "        text-align: right;\n",
              "    }\n",
              "</style>\n",
              "<table border=\"1\" class=\"dataframe\">\n",
              "  <thead>\n",
              "    <tr style=\"text-align: right;\">\n",
              "      <th></th>\n",
              "      <th>Gender</th>\n",
              "      <th>Age</th>\n",
              "      <th>Region_Code</th>\n",
              "      <th>Occupation</th>\n",
              "      <th>Channel_Code</th>\n",
              "      <th>Vintage</th>\n",
              "      <th>Credit_Product</th>\n",
              "      <th>Avg_Account_Balance</th>\n",
              "      <th>Is_Active</th>\n",
              "    </tr>\n",
              "  </thead>\n",
              "  <tbody>\n",
              "    <tr>\n",
              "      <th>0</th>\n",
              "      <td>Male</td>\n",
              "      <td>29</td>\n",
              "      <td>RG254</td>\n",
              "      <td>Other</td>\n",
              "      <td>X1</td>\n",
              "      <td>25</td>\n",
              "      <td>Yes</td>\n",
              "      <td>742366</td>\n",
              "      <td>No</td>\n",
              "    </tr>\n",
              "    <tr>\n",
              "      <th>1</th>\n",
              "      <td>Male</td>\n",
              "      <td>43</td>\n",
              "      <td>RG268</td>\n",
              "      <td>Other</td>\n",
              "      <td>X2</td>\n",
              "      <td>49</td>\n",
              "      <td>NaN</td>\n",
              "      <td>925537</td>\n",
              "      <td>No</td>\n",
              "    </tr>\n",
              "    <tr>\n",
              "      <th>2</th>\n",
              "      <td>Male</td>\n",
              "      <td>31</td>\n",
              "      <td>RG270</td>\n",
              "      <td>Salaried</td>\n",
              "      <td>X1</td>\n",
              "      <td>14</td>\n",
              "      <td>No</td>\n",
              "      <td>215949</td>\n",
              "      <td>No</td>\n",
              "    </tr>\n",
              "    <tr>\n",
              "      <th>3</th>\n",
              "      <td>Male</td>\n",
              "      <td>29</td>\n",
              "      <td>RG272</td>\n",
              "      <td>Other</td>\n",
              "      <td>X1</td>\n",
              "      <td>33</td>\n",
              "      <td>No</td>\n",
              "      <td>868070</td>\n",
              "      <td>No</td>\n",
              "    </tr>\n",
              "    <tr>\n",
              "      <th>4</th>\n",
              "      <td>Female</td>\n",
              "      <td>29</td>\n",
              "      <td>RG270</td>\n",
              "      <td>Other</td>\n",
              "      <td>X1</td>\n",
              "      <td>19</td>\n",
              "      <td>No</td>\n",
              "      <td>657087</td>\n",
              "      <td>No</td>\n",
              "    </tr>\n",
              "  </tbody>\n",
              "</table>\n",
              "</div>"
            ],
            "text/plain": [
              "   Gender  Age Region_Code  ... Credit_Product Avg_Account_Balance  Is_Active\n",
              "0    Male   29       RG254  ...            Yes              742366         No\n",
              "1    Male   43       RG268  ...            NaN              925537         No\n",
              "2    Male   31       RG270  ...             No              215949         No\n",
              "3    Male   29       RG272  ...             No              868070         No\n",
              "4  Female   29       RG270  ...             No              657087         No\n",
              "\n",
              "[5 rows x 9 columns]"
            ]
          },
          "metadata": {
            "tags": []
          },
          "execution_count": 13
        }
      ]
    },
    {
      "cell_type": "code",
      "metadata": {
        "colab": {
          "base_uri": "https://localhost:8080/"
        },
        "id": "qLtwTaGZw-W-",
        "outputId": "4c7ca021-1d3a-4bfa-cc7c-7325aa74ec16"
      },
      "source": [
        "!pip install feature-engine"
      ],
      "execution_count": 18,
      "outputs": [
        {
          "output_type": "stream",
          "text": [
            "Collecting feature-engine\n",
            "\u001b[?25l  Downloading https://files.pythonhosted.org/packages/57/6d/0c7594c89bf07a7c447b1a251d4e04b07104d4a9332de71e1de42b78b838/feature_engine-1.0.2-py2.py3-none-any.whl (152kB)\n",
            "\u001b[K     |████████████████████████████████| 153kB 3.0MB/s \n",
            "\u001b[?25hRequirement already satisfied: scipy>=1.4.1 in /usr/local/lib/python3.7/dist-packages (from feature-engine) (1.4.1)\n",
            "Requirement already satisfied: pandas>=1.0.3 in /usr/local/lib/python3.7/dist-packages (from feature-engine) (1.1.5)\n",
            "Requirement already satisfied: numpy>=1.18.2 in /usr/local/lib/python3.7/dist-packages (from feature-engine) (1.19.5)\n",
            "Requirement already satisfied: scikit-learn>=0.22.2 in /usr/local/lib/python3.7/dist-packages (from feature-engine) (0.22.2.post1)\n",
            "Collecting statsmodels>=0.11.1\n",
            "\u001b[?25l  Downloading https://files.pythonhosted.org/packages/da/69/8eef30a6237c54f3c0b524140e2975f4b1eea3489b45eb3339574fc8acee/statsmodels-0.12.2-cp37-cp37m-manylinux1_x86_64.whl (9.5MB)\n",
            "\u001b[K     |████████████████████████████████| 9.5MB 9.6MB/s \n",
            "\u001b[?25hRequirement already satisfied: python-dateutil>=2.7.3 in /usr/local/lib/python3.7/dist-packages (from pandas>=1.0.3->feature-engine) (2.8.1)\n",
            "Requirement already satisfied: pytz>=2017.2 in /usr/local/lib/python3.7/dist-packages (from pandas>=1.0.3->feature-engine) (2018.9)\n",
            "Requirement already satisfied: joblib>=0.11 in /usr/local/lib/python3.7/dist-packages (from scikit-learn>=0.22.2->feature-engine) (1.0.1)\n",
            "Requirement already satisfied: patsy>=0.5 in /usr/local/lib/python3.7/dist-packages (from statsmodels>=0.11.1->feature-engine) (0.5.1)\n",
            "Requirement already satisfied: six>=1.5 in /usr/local/lib/python3.7/dist-packages (from python-dateutil>=2.7.3->pandas>=1.0.3->feature-engine) (1.15.0)\n",
            "Installing collected packages: statsmodels, feature-engine\n",
            "  Found existing installation: statsmodels 0.10.2\n",
            "    Uninstalling statsmodels-0.10.2:\n",
            "      Successfully uninstalled statsmodels-0.10.2\n",
            "Successfully installed feature-engine-1.0.2 statsmodels-0.12.2\n"
          ],
          "name": "stdout"
        }
      ]
    },
    {
      "cell_type": "code",
      "metadata": {
        "colab": {
          "base_uri": "https://localhost:8080/"
        },
        "id": "nf3ohmw9w9Tv",
        "outputId": "577463b5-7838-46b3-aa43-36a8ebe346cf"
      },
      "source": [
        "from feature_engine.imputation import CategoricalImputer\n",
        "\n",
        "# we call the imputer from featur- engine\n",
        "# we don't need to specify anything \n",
        "\n",
        "imputer = CategoricalImputer()\n",
        "\n",
        "imputer.fit(x)"
      ],
      "execution_count": 19,
      "outputs": [
        {
          "output_type": "execute_result",
          "data": {
            "text/plain": [
              "CategoricalImputer(fill_value='Missing', imputation_method='missing',\n",
              "                   return_object=False,\n",
              "                   variables=['Region_Code', 'Occupation', 'Channel_Code',\n",
              "                              'Credit_Product', 'Is_Active'])"
            ]
          },
          "metadata": {
            "tags": []
          },
          "execution_count": 19
        }
      ]
    },
    {
      "cell_type": "code",
      "metadata": {
        "colab": {
          "base_uri": "https://localhost:8080/"
        },
        "id": "KkGup1Ymw9Qw",
        "outputId": "a1321752-c162-405b-eba6-4b0fa2f7a26c"
      },
      "source": [
        "imputer.variables"
      ],
      "execution_count": 20,
      "outputs": [
        {
          "output_type": "execute_result",
          "data": {
            "text/plain": [
              "['Region_Code', 'Occupation', 'Channel_Code', 'Credit_Product', 'Is_Active']"
            ]
          },
          "metadata": {
            "tags": []
          },
          "execution_count": 20
        }
      ]
    },
    {
      "cell_type": "code",
      "metadata": {
        "colab": {
          "base_uri": "https://localhost:8080/",
          "height": 202
        },
        "id": "2LnPtG5kw9Of",
        "outputId": "1ce9b045-e12f-4199-ea28-52fb4153558d"
      },
      "source": [
        "x = imputer.transform(x)\n",
        "x.head()"
      ],
      "execution_count": 21,
      "outputs": [
        {
          "output_type": "execute_result",
          "data": {
            "text/html": [
              "<div>\n",
              "<style scoped>\n",
              "    .dataframe tbody tr th:only-of-type {\n",
              "        vertical-align: middle;\n",
              "    }\n",
              "\n",
              "    .dataframe tbody tr th {\n",
              "        vertical-align: top;\n",
              "    }\n",
              "\n",
              "    .dataframe thead th {\n",
              "        text-align: right;\n",
              "    }\n",
              "</style>\n",
              "<table border=\"1\" class=\"dataframe\">\n",
              "  <thead>\n",
              "    <tr style=\"text-align: right;\">\n",
              "      <th></th>\n",
              "      <th>Gender</th>\n",
              "      <th>Age</th>\n",
              "      <th>Region_Code</th>\n",
              "      <th>Occupation</th>\n",
              "      <th>Channel_Code</th>\n",
              "      <th>Vintage</th>\n",
              "      <th>Credit_Product</th>\n",
              "      <th>Avg_Account_Balance</th>\n",
              "      <th>Is_Active</th>\n",
              "    </tr>\n",
              "  </thead>\n",
              "  <tbody>\n",
              "    <tr>\n",
              "      <th>0</th>\n",
              "      <td>0</td>\n",
              "      <td>73</td>\n",
              "      <td>RG268</td>\n",
              "      <td>Other</td>\n",
              "      <td>X3</td>\n",
              "      <td>43</td>\n",
              "      <td>No</td>\n",
              "      <td>1045696</td>\n",
              "      <td>No</td>\n",
              "    </tr>\n",
              "    <tr>\n",
              "      <th>1</th>\n",
              "      <td>0</td>\n",
              "      <td>30</td>\n",
              "      <td>RG277</td>\n",
              "      <td>Salaried</td>\n",
              "      <td>X1</td>\n",
              "      <td>32</td>\n",
              "      <td>No</td>\n",
              "      <td>581988</td>\n",
              "      <td>No</td>\n",
              "    </tr>\n",
              "    <tr>\n",
              "      <th>2</th>\n",
              "      <td>0</td>\n",
              "      <td>56</td>\n",
              "      <td>RG268</td>\n",
              "      <td>Self_Employed</td>\n",
              "      <td>X3</td>\n",
              "      <td>26</td>\n",
              "      <td>No</td>\n",
              "      <td>1484315</td>\n",
              "      <td>Yes</td>\n",
              "    </tr>\n",
              "    <tr>\n",
              "      <th>3</th>\n",
              "      <td>1</td>\n",
              "      <td>34</td>\n",
              "      <td>RG270</td>\n",
              "      <td>Salaried</td>\n",
              "      <td>X1</td>\n",
              "      <td>19</td>\n",
              "      <td>No</td>\n",
              "      <td>470454</td>\n",
              "      <td>No</td>\n",
              "    </tr>\n",
              "    <tr>\n",
              "      <th>4</th>\n",
              "      <td>0</td>\n",
              "      <td>30</td>\n",
              "      <td>RG282</td>\n",
              "      <td>Salaried</td>\n",
              "      <td>X1</td>\n",
              "      <td>33</td>\n",
              "      <td>No</td>\n",
              "      <td>886787</td>\n",
              "      <td>No</td>\n",
              "    </tr>\n",
              "  </tbody>\n",
              "</table>\n",
              "</div>"
            ],
            "text/plain": [
              "   Gender  Age Region_Code  ... Credit_Product Avg_Account_Balance  Is_Active\n",
              "0       0   73       RG268  ...             No             1045696         No\n",
              "1       0   30       RG277  ...             No              581988         No\n",
              "2       0   56       RG268  ...             No             1484315        Yes\n",
              "3       1   34       RG270  ...             No              470454         No\n",
              "4       0   30       RG282  ...             No              886787         No\n",
              "\n",
              "[5 rows x 9 columns]"
            ]
          },
          "metadata": {
            "tags": []
          },
          "execution_count": 21
        }
      ]
    },
    {
      "cell_type": "code",
      "metadata": {
        "colab": {
          "base_uri": "https://localhost:8080/"
        },
        "id": "sVGS6tkHw9Lv",
        "outputId": "b2512b91-7ed1-46fe-80eb-ab664ca92102"
      },
      "source": [
        "x.isnull().sum()"
      ],
      "execution_count": 22,
      "outputs": [
        {
          "output_type": "execute_result",
          "data": {
            "text/plain": [
              "Gender                 0\n",
              "Age                    0\n",
              "Region_Code            0\n",
              "Occupation             0\n",
              "Channel_Code           0\n",
              "Vintage                0\n",
              "Credit_Product         0\n",
              "Avg_Account_Balance    0\n",
              "Is_Active              0\n",
              "dtype: int64"
            ]
          },
          "metadata": {
            "tags": []
          },
          "execution_count": 22
        }
      ]
    },
    {
      "cell_type": "code",
      "metadata": {
        "colab": {
          "base_uri": "https://localhost:8080/"
        },
        "id": "mhq968Rfw9I3",
        "outputId": "e4d878ac-ff04-4aae-8d4d-cd8d37a927e5"
      },
      "source": [
        "test = imputer.transform(test)\n",
        "test.isnull().sum()"
      ],
      "execution_count": 24,
      "outputs": [
        {
          "output_type": "execute_result",
          "data": {
            "text/plain": [
              "Gender                 0\n",
              "Age                    0\n",
              "Region_Code            0\n",
              "Occupation             0\n",
              "Channel_Code           0\n",
              "Vintage                0\n",
              "Credit_Product         0\n",
              "Avg_Account_Balance    0\n",
              "Is_Active              0\n",
              "dtype: int64"
            ]
          },
          "metadata": {
            "tags": []
          },
          "execution_count": 24
        }
      ]
    },
    {
      "cell_type": "code",
      "metadata": {
        "colab": {
          "base_uri": "https://localhost:8080/",
          "height": 297
        },
        "id": "Yzev2nm9w9Gg",
        "outputId": "bbc5d707-5e95-4a6d-a607-68f2bb38268c"
      },
      "source": [
        "sns.countplot(x['Credit_Product'])"
      ],
      "execution_count": 25,
      "outputs": [
        {
          "output_type": "display_data",
          "data": {
            "application/javascript": [
              "\n",
              "        if (window._pyforest_update_imports_cell) { window._pyforest_update_imports_cell('from sklearn.model_selection import train_test_split\\nimport matplotlib.pyplot as plt\\nimport statistics\\nimport sys\\nimport bokeh\\nimport sklearn\\nimport tensorflow as tf\\nimport seaborn as sns\\nimport pydot\\nfrom sklearn import svm\\nimport tqdm\\nimport xgboost as xgb\\nimport spacy\\nimport plotly as py\\nimport pickle\\nimport pandas as pd\\nimport matplotlib as mpl\\nimport plotly.express as px\\nimport altair as alt'); }\n",
              "    "
            ],
            "text/plain": [
              "<IPython.core.display.Javascript object>"
            ]
          },
          "metadata": {
            "tags": []
          }
        },
        {
          "output_type": "execute_result",
          "data": {
            "text/plain": [
              "<matplotlib.axes._subplots.AxesSubplot at 0x7ff5c01c9350>"
            ]
          },
          "metadata": {
            "tags": []
          },
          "execution_count": 25
        },
        {
          "output_type": "display_data",
          "data": {
            "image/png": "[encoded data removed]",
            "text/plain": [
              "<Figure size 432x288 with 1 Axes>"
            ]
          },
          "metadata": {
            "tags": [],
            "needs_background": "light"
          }
        }
      ]
    },
    {
      "cell_type": "code",
      "metadata": {
        "colab": {
          "base_uri": "https://localhost:8080/",
          "height": 297
        },
        "id": "tdmklha-w9Cv",
        "outputId": "d28050b6-62e3-4429-e736-253240eb611e"
      },
      "source": [
        "sns.countplot(test['Credit_Product'])"
      ],
      "execution_count": 26,
      "outputs": [
        {
          "output_type": "display_data",
          "data": {
            "application/javascript": [
              "\n",
              "        if (window._pyforest_update_imports_cell) { window._pyforest_update_imports_cell('from sklearn.model_selection import train_test_split\\nimport matplotlib.pyplot as plt\\nimport statistics\\nimport sys\\nimport bokeh\\nimport sklearn\\nimport tensorflow as tf\\nimport seaborn as sns\\nimport pydot\\nfrom sklearn import svm\\nimport tqdm\\nimport xgboost as xgb\\nimport spacy\\nimport plotly as py\\nimport pickle\\nimport pandas as pd\\nimport matplotlib as mpl\\nimport plotly.express as px\\nimport altair as alt'); }\n",
              "    "
            ],
            "text/plain": [
              "<IPython.core.display.Javascript object>"
            ]
          },
          "metadata": {
            "tags": []
          }
        },
        {
          "output_type": "execute_result",
          "data": {
            "text/plain": [
              "<matplotlib.axes._subplots.AxesSubplot at 0x7ff5bc10e410>"
            ]
          },
          "metadata": {
            "tags": []
          },
          "execution_count": 26
        },
        {
          "output_type": "display_data",
          "data": {
            "image/png": "[encoded data removed]",
            "text/plain": [
              "<Figure size 432x288 with 1 Axes>"
            ]
          },
          "metadata": {
            "tags": [],
            "needs_background": "light"
          }
        }
      ]
    },
    {
      "cell_type": "code",
      "metadata": {
        "colab": {
          "base_uri": "https://localhost:8080/",
          "height": 202
        },
        "id": "QP-0PZTpwGX3",
        "outputId": "f45f9412-c61e-460e-f396-66e7b1330e74"
      },
      "source": [
        "# label encoding gender, credit_product and is_Active\n",
        "from sklearn.preprocessing import LabelEncoder\n",
        "\n",
        "le = LabelEncoder()\n",
        "# le.fit(df['Gender'])\n",
        "# le.fit(df['Credit_Product'])\n",
        "# le.fit(df['Is_Active'])\n",
        "\n",
        "\n",
        "x['Gender'] = le.fit_transform(x['Gender'])\n",
        "x['Credit_Product'] = le.fit_transform(x['Credit_Product'])\n",
        "x['Is_Active'] = le.fit_transform(x['Is_Active'])\n",
        "x['Region_Code'] = le.fit_transform(x['Region_Code'])\n",
        "x['Occupation'] = le.fit_transform(x['Occupation'])\n",
        "x['Channel_Code'] = le.fit_transform(x['Channel_Code'])\n",
        "\n",
        "\n",
        "x.head()"
      ],
      "execution_count": 27,
      "outputs": [
        {
          "output_type": "execute_result",
          "data": {
            "text/html": [
              "<div>\n",
              "<style scoped>\n",
              "    .dataframe tbody tr th:only-of-type {\n",
              "        vertical-align: middle;\n",
              "    }\n",
              "\n",
              "    .dataframe tbody tr th {\n",
              "        vertical-align: top;\n",
              "    }\n",
              "\n",
              "    .dataframe thead th {\n",
              "        text-align: right;\n",
              "    }\n",
              "</style>\n",
              "<table border=\"1\" class=\"dataframe\">\n",
              "  <thead>\n",
              "    <tr style=\"text-align: right;\">\n",
              "      <th></th>\n",
              "      <th>Gender</th>\n",
              "      <th>Age</th>\n",
              "      <th>Region_Code</th>\n",
              "      <th>Occupation</th>\n",
              "      <th>Channel_Code</th>\n",
              "      <th>Vintage</th>\n",
              "      <th>Credit_Product</th>\n",
              "      <th>Avg_Account_Balance</th>\n",
              "      <th>Is_Active</th>\n",
              "    </tr>\n",
              "  </thead>\n",
              "  <tbody>\n",
              "    <tr>\n",
              "      <th>0</th>\n",
              "      <td>0</td>\n",
              "      <td>73</td>\n",
              "      <td>18</td>\n",
              "      <td>1</td>\n",
              "      <td>2</td>\n",
              "      <td>43</td>\n",
              "      <td>1</td>\n",
              "      <td>1045696</td>\n",
              "      <td>0</td>\n",
              "    </tr>\n",
              "    <tr>\n",
              "      <th>1</th>\n",
              "      <td>0</td>\n",
              "      <td>30</td>\n",
              "      <td>27</td>\n",
              "      <td>2</td>\n",
              "      <td>0</td>\n",
              "      <td>32</td>\n",
              "      <td>1</td>\n",
              "      <td>581988</td>\n",
              "      <td>0</td>\n",
              "    </tr>\n",
              "    <tr>\n",
              "      <th>2</th>\n",
              "      <td>0</td>\n",
              "      <td>56</td>\n",
              "      <td>18</td>\n",
              "      <td>3</td>\n",
              "      <td>2</td>\n",
              "      <td>26</td>\n",
              "      <td>1</td>\n",
              "      <td>1484315</td>\n",
              "      <td>1</td>\n",
              "    </tr>\n",
              "    <tr>\n",
              "      <th>3</th>\n",
              "      <td>1</td>\n",
              "      <td>34</td>\n",
              "      <td>20</td>\n",
              "      <td>2</td>\n",
              "      <td>0</td>\n",
              "      <td>19</td>\n",
              "      <td>1</td>\n",
              "      <td>470454</td>\n",
              "      <td>0</td>\n",
              "    </tr>\n",
              "    <tr>\n",
              "      <th>4</th>\n",
              "      <td>0</td>\n",
              "      <td>30</td>\n",
              "      <td>32</td>\n",
              "      <td>2</td>\n",
              "      <td>0</td>\n",
              "      <td>33</td>\n",
              "      <td>1</td>\n",
              "      <td>886787</td>\n",
              "      <td>0</td>\n",
              "    </tr>\n",
              "  </tbody>\n",
              "</table>\n",
              "</div>"
            ],
            "text/plain": [
              "   Gender  Age  Region_Code  ...  Credit_Product  Avg_Account_Balance  Is_Active\n",
              "0       0   73           18  ...               1              1045696          0\n",
              "1       0   30           27  ...               1               581988          0\n",
              "2       0   56           18  ...               1              1484315          1\n",
              "3       1   34           20  ...               1               470454          0\n",
              "4       0   30           32  ...               1               886787          0\n",
              "\n",
              "[5 rows x 9 columns]"
            ]
          },
          "metadata": {
            "tags": []
          },
          "execution_count": 27
        }
      ]
    },
    {
      "cell_type": "code",
      "metadata": {
        "colab": {
          "base_uri": "https://localhost:8080/",
          "height": 224
        },
        "id": "29dsdjx4wGT6",
        "outputId": "ddf1394e-a5f6-46b3-b778-771c03459917"
      },
      "source": [
        "# test data\n",
        "# test = new_test.copy()\n",
        "test['Gender'] = le.fit_transform(test['Gender'])\n",
        "test['Credit_Product'] = le.fit_transform(test['Credit_Product'])\n",
        "test['Is_Active'] = le.fit_transform(test['Is_Active'])\n",
        "test['Region_Code'] = le.fit_transform(test['Region_Code'])\n",
        "test['Occupation'] = le.fit_transform(test['Occupation'])\n",
        "test['Channel_Code'] = le.fit_transform(test['Channel_Code'])\n",
        "\n",
        "test.head()"
      ],
      "execution_count": 28,
      "outputs": [
        {
          "output_type": "execute_result",
          "data": {
            "text/html": [
              "<div>\n",
              "<style scoped>\n",
              "    .dataframe tbody tr th:only-of-type {\n",
              "        vertical-align: middle;\n",
              "    }\n",
              "\n",
              "    .dataframe tbody tr th {\n",
              "        vertical-align: top;\n",
              "    }\n",
              "\n",
              "    .dataframe thead th {\n",
              "        text-align: right;\n",
              "    }\n",
              "</style>\n",
              "<table border=\"1\" class=\"dataframe\">\n",
              "  <thead>\n",
              "    <tr style=\"text-align: right;\">\n",
              "      <th></th>\n",
              "      <th>Gender</th>\n",
              "      <th>Age</th>\n",
              "      <th>Region_Code</th>\n",
              "      <th>Occupation</th>\n",
              "      <th>Channel_Code</th>\n",
              "      <th>Vintage</th>\n",
              "      <th>Credit_Product</th>\n",
              "      <th>Avg_Account_Balance</th>\n",
              "      <th>Is_Active</th>\n",
              "    </tr>\n",
              "  </thead>\n",
              "  <tbody>\n",
              "    <tr>\n",
              "      <th>0</th>\n",
              "      <td>1</td>\n",
              "      <td>29</td>\n",
              "      <td>4</td>\n",
              "      <td>1</td>\n",
              "      <td>0</td>\n",
              "      <td>25</td>\n",
              "      <td>2</td>\n",
              "      <td>742366</td>\n",
              "      <td>0</td>\n",
              "    </tr>\n",
              "    <tr>\n",
              "      <th>1</th>\n",
              "      <td>1</td>\n",
              "      <td>43</td>\n",
              "      <td>18</td>\n",
              "      <td>1</td>\n",
              "      <td>1</td>\n",
              "      <td>49</td>\n",
              "      <td>0</td>\n",
              "      <td>925537</td>\n",
              "      <td>0</td>\n",
              "    </tr>\n",
              "    <tr>\n",
              "      <th>2</th>\n",
              "      <td>1</td>\n",
              "      <td>31</td>\n",
              "      <td>20</td>\n",
              "      <td>2</td>\n",
              "      <td>0</td>\n",
              "      <td>14</td>\n",
              "      <td>1</td>\n",
              "      <td>215949</td>\n",
              "      <td>0</td>\n",
              "    </tr>\n",
              "    <tr>\n",
              "      <th>3</th>\n",
              "      <td>1</td>\n",
              "      <td>29</td>\n",
              "      <td>22</td>\n",
              "      <td>1</td>\n",
              "      <td>0</td>\n",
              "      <td>33</td>\n",
              "      <td>1</td>\n",
              "      <td>868070</td>\n",
              "      <td>0</td>\n",
              "    </tr>\n",
              "    <tr>\n",
              "      <th>4</th>\n",
              "      <td>0</td>\n",
              "      <td>29</td>\n",
              "      <td>20</td>\n",
              "      <td>1</td>\n",
              "      <td>0</td>\n",
              "      <td>19</td>\n",
              "      <td>1</td>\n",
              "      <td>657087</td>\n",
              "      <td>0</td>\n",
              "    </tr>\n",
              "  </tbody>\n",
              "</table>\n",
              "</div>"
            ],
            "text/plain": [
              "   Gender  Age  Region_Code  ...  Credit_Product  Avg_Account_Balance  Is_Active\n",
              "0       1   29            4  ...               2               742366          0\n",
              "1       1   43           18  ...               0               925537          0\n",
              "2       1   31           20  ...               1               215949          0\n",
              "3       1   29           22  ...               1               868070          0\n",
              "4       0   29           20  ...               1               657087          0\n",
              "\n",
              "[5 rows x 9 columns]"
            ]
          },
          "metadata": {
            "tags": []
          },
          "execution_count": 28
        }
      ]
    },
    {
      "cell_type": "code",
      "metadata": {
        "colab": {
          "base_uri": "https://localhost:8080/"
        },
        "id": "FMUeGNM-wGQA",
        "outputId": "a026dbd6-4836-4710-a853-591981e6a2e6"
      },
      "source": [
        "from sklearn.model_selection import train_test_split\n",
        "\n",
        "x_train, x_test, y_train, y_test = train_test_split(x, y, test_size=0.33, random_state=4)\n",
        "\n",
        "x_train.shape, x_test.shape, y_train.shape, y_test.shape"
      ],
      "execution_count": 34,
      "outputs": [
        {
          "output_type": "execute_result",
          "data": {
            "text/plain": [
              "((164635, 9), (81090, 9), (164635,), (81090,))"
            ]
          },
          "metadata": {
            "tags": []
          },
          "execution_count": 34
        }
      ]
    },
    {
      "cell_type": "code",
      "metadata": {
        "id": "52qUWV-7yaqI"
      },
      "source": [
        "from sklearn.linear_model import LogisticRegression\n",
        "from sklearn.model_selection import cross_val_score\n",
        "from sklearn.metrics import accuracy_score\n",
        "from sklearn.metrics import roc_auc_score\n",
        "from sklearn.metrics import roc_curve, auc\n",
        "from sklearn import metrics\n",
        "from sklearn.model_selection import GridSearchCV\n",
        "# pr curve and pr auc \n",
        "from sklearn.datasets import make_classification\n",
        "from sklearn.dummy import DummyClassifier\n",
        "from sklearn.metrics import precision_recall_curve\n",
        "from sklearn.metrics import auc"
      ],
      "execution_count": 35,
      "outputs": []
    },
    {
      "cell_type": "code",
      "metadata": {
        "colab": {
          "base_uri": "https://localhost:8080/"
        },
        "id": "qpCYX3JPwGNT",
        "outputId": "455cc452-daa9-45af-9504-23b739291d62"
      },
      "source": [
        "from xgboost import XGBClassifier\n",
        "\n",
        "xg = XGBClassifier()\n",
        "\n",
        "xg.fit(x_train, y_train)\n",
        "\n",
        "xg_accuracies = cross_val_score(xg, X=x_test, y=y_test, cv=10)\n",
        "\n",
        "print('Accuracies\" \\n', xg_accuracies)\n",
        "print()\n",
        "print('Mean Accuracy: ', xg_accuracies.mean())"
      ],
      "execution_count": 36,
      "outputs": [
        {
          "output_type": "stream",
          "text": [
            "Accuracies\" \n",
            " [0.85941546 0.85978542 0.86003206 0.85682575 0.86767789 0.86249846\n",
            " 0.86064866 0.85892219 0.85855223 0.85867555]\n",
            "\n",
            "Mean Accuracy:  0.8603033666296707\n"
          ],
          "name": "stdout"
        }
      ]
    },
    {
      "cell_type": "code",
      "metadata": {
        "colab": {
          "base_uri": "https://localhost:8080/",
          "height": 1000
        },
        "id": "C1ppBa4pwGK3",
        "outputId": "721c0dda-06a8-4fa4-cc12-93192185846c"
      },
      "source": [
        "from hyperopt import STATUS_OK, Trials, fmin, hp, tpe\n",
        "\n",
        "space={'max_depth': hp.quniform(\"max_depth\", 3, 18, 1),\n",
        "        'gamma': hp.uniform ('gamma', 1,9),\n",
        "        'reg_alpha' : hp.quniform('reg_alpha', 40,180,1),\n",
        "        'reg_lambda' : hp.uniform('reg_lambda', 0,1),\n",
        "        'colsample_bytree' : hp.uniform('colsample_bytree', 0.5,1),\n",
        "        'min_child_weight' : hp.quniform('min_child_weight', 0, 10, 1),\n",
        "        'n_estimators': 180,\n",
        "        'seed': 0\n",
        "    }\n",
        "\n",
        "def objective(space):\n",
        "\n",
        "    xgbc = xgb.XGBClassifier(\n",
        "                    n_estimators =space['n_estimators'], \n",
        "                    max_depth = int(space['max_depth']), \n",
        "                    gamma = space['gamma'],\n",
        "                    reg_alpha = int(space['reg_alpha']),\n",
        "                    min_child_weight=int(space['min_child_weight']),\n",
        "                    colsample_bytree=int(space['colsample_bytree']))\n",
        "    \n",
        "    evaluation = [(x_train, y_train), (x_test, y_test)]\n",
        "    \n",
        "    xgbc.fit(x_train, y_train,\n",
        "            eval_set=evaluation, eval_metric=\"auc\",\n",
        "            early_stopping_rounds=10,verbose=False)\n",
        "    \n",
        "\n",
        "    pred = xgbc.predict(x_test)\n",
        "    accuracy = accuracy_score(y_test, pred>0.5)\n",
        "    print (\"SCORE:\", accuracy)\n",
        "    return {'loss': -accuracy, 'status': STATUS_OK }\n",
        "\n",
        "trials = Trials()\n",
        "\n",
        "best_hyperparams = fmin(fn = objective,\n",
        "                        space = space,\n",
        "                        algo = tpe.suggest,\n",
        "                        max_evals = 100,\n",
        "                        trials = trials)"
      ],
      "execution_count": 37,
      "outputs": [
        {
          "output_type": "stream",
          "text": [
            "\r  0%|          | 0/100 [00:00<?, ?it/s, best loss: ?]"
          ],
          "name": "stdout"
        },
        {
          "output_type": "display_data",
          "data": {
            "application/javascript": [
              "\n",
              "        if (window._pyforest_update_imports_cell) { window._pyforest_update_imports_cell('from sklearn.model_selection import train_test_split\\nimport matplotlib.pyplot as plt\\nimport statistics\\nimport sys\\nimport bokeh\\nimport sklearn\\nimport tensorflow as tf\\nimport seaborn as sns\\nimport pydot\\nfrom sklearn import svm\\nimport tqdm\\nimport xgboost as xgb\\nimport spacy\\nimport plotly as py\\nimport pickle\\nimport pandas as pd\\nimport matplotlib as mpl\\nimport plotly.express as px\\nimport altair as alt'); }\n",
              "    "
            ],
            "text/plain": [
              "<IPython.core.display.Javascript object>"
            ]
          },
          "metadata": {
            "tags": []
          }
        },
        {
          "output_type": "stream",
          "text": [
            "SCORE:\n",
            "0.8410161548896288\n",
            "  1%|          | 1/100 [00:05<08:37,  5.23s/it, best loss: -0.8410161548896288]"
          ],
          "name": "stdout"
        },
        {
          "output_type": "display_data",
          "data": {
            "application/javascript": [
              "\n",
              "        if (window._pyforest_update_imports_cell) { window._pyforest_update_imports_cell('from sklearn.model_selection import train_test_split\\nimport matplotlib.pyplot as plt\\nimport statistics\\nimport sys\\nimport bokeh\\nimport sklearn\\nimport tensorflow as tf\\nimport seaborn as sns\\nimport pydot\\nfrom sklearn import svm\\nimport tqdm\\nimport xgboost as xgb\\nimport spacy\\nimport plotly as py\\nimport pickle\\nimport pandas as pd\\nimport matplotlib as mpl\\nimport plotly.express as px\\nimport altair as alt'); }\n",
              "    "
            ],
            "text/plain": [
              "<IPython.core.display.Javascript object>"
            ]
          },
          "metadata": {
            "tags": []
          }
        },
        {
          "output_type": "stream",
          "text": [
            "SCORE:\n",
            "0.8411271426809718\n",
            "  2%|▏         | 2/100 [00:10<08:38,  5.30s/it, best loss: -0.8411271426809718]"
          ],
          "name": "stdout"
        },
        {
          "output_type": "display_data",
          "data": {
            "application/javascript": [
              "\n",
              "        if (window._pyforest_update_imports_cell) { window._pyforest_update_imports_cell('from sklearn.model_selection import train_test_split\\nimport matplotlib.pyplot as plt\\nimport statistics\\nimport sys\\nimport bokeh\\nimport sklearn\\nimport tensorflow as tf\\nimport seaborn as sns\\nimport pydot\\nfrom sklearn import svm\\nimport tqdm\\nimport xgboost as xgb\\nimport spacy\\nimport plotly as py\\nimport pickle\\nimport pandas as pd\\nimport matplotlib as mpl\\nimport plotly.express as px\\nimport altair as alt'); }\n",
              "    "
            ],
            "text/plain": [
              "<IPython.core.display.Javascript object>"
            ]
          },
          "metadata": {
            "tags": []
          }
        },
        {
          "output_type": "stream",
          "text": [
            "SCORE:\n",
            "0.8409174990751017\n",
            "  3%|▎         | 3/100 [00:15<08:33,  5.29s/it, best loss: -0.8411271426809718]"
          ],
          "name": "stdout"
        },
        {
          "output_type": "display_data",
          "data": {
            "application/javascript": [
              "\n",
              "        if (window._pyforest_update_imports_cell) { window._pyforest_update_imports_cell('from sklearn.model_selection import train_test_split\\nimport matplotlib.pyplot as plt\\nimport statistics\\nimport sys\\nimport bokeh\\nimport sklearn\\nimport tensorflow as tf\\nimport seaborn as sns\\nimport pydot\\nfrom sklearn import svm\\nimport tqdm\\nimport xgboost as xgb\\nimport spacy\\nimport plotly as py\\nimport pickle\\nimport pandas as pd\\nimport matplotlib as mpl\\nimport plotly.express as px\\nimport altair as alt'); }\n",
              "    "
            ],
            "text/plain": [
              "<IPython.core.display.Javascript object>"
            ]
          },
          "metadata": {
            "tags": []
          }
        },
        {
          "output_type": "stream",
          "text": [
            "SCORE:\n",
            "0.8410284868664447\n",
            "  4%|▍         | 4/100 [00:21<08:29,  5.31s/it, best loss: -0.8411271426809718]"
          ],
          "name": "stdout"
        },
        {
          "output_type": "display_data",
          "data": {
            "application/javascript": [
              "\n",
              "        if (window._pyforest_update_imports_cell) { window._pyforest_update_imports_cell('from sklearn.model_selection import train_test_split\\nimport matplotlib.pyplot as plt\\nimport statistics\\nimport sys\\nimport bokeh\\nimport sklearn\\nimport tensorflow as tf\\nimport seaborn as sns\\nimport pydot\\nfrom sklearn import svm\\nimport tqdm\\nimport xgboost as xgb\\nimport spacy\\nimport plotly as py\\nimport pickle\\nimport pandas as pd\\nimport matplotlib as mpl\\nimport plotly.express as px\\nimport altair as alt'); }\n",
              "    "
            ],
            "text/plain": [
              "<IPython.core.display.Javascript object>"
            ]
          },
          "metadata": {
            "tags": []
          }
        },
        {
          "output_type": "stream",
          "text": [
            "SCORE:\n",
            "0.8408558391910224\n",
            "  5%|▌         | 5/100 [00:26<08:19,  5.26s/it, best loss: -0.8411271426809718]"
          ],
          "name": "stdout"
        },
        {
          "output_type": "display_data",
          "data": {
            "application/javascript": [
              "\n",
              "        if (window._pyforest_update_imports_cell) { window._pyforest_update_imports_cell('from sklearn.model_selection import train_test_split\\nimport matplotlib.pyplot as plt\\nimport statistics\\nimport sys\\nimport bokeh\\nimport sklearn\\nimport tensorflow as tf\\nimport seaborn as sns\\nimport pydot\\nfrom sklearn import svm\\nimport tqdm\\nimport xgboost as xgb\\nimport spacy\\nimport plotly as py\\nimport pickle\\nimport pandas as pd\\nimport matplotlib as mpl\\nimport plotly.express as px\\nimport altair as alt'); }\n",
              "    "
            ],
            "text/plain": [
              "<IPython.core.display.Javascript object>"
            ]
          },
          "metadata": {
            "tags": []
          }
        },
        {
          "output_type": "stream",
          "text": [
            "SCORE:\n",
            "0.8410531508200765\n",
            "  6%|▌         | 6/100 [00:31<08:14,  5.26s/it, best loss: -0.8411271426809718]"
          ],
          "name": "stdout"
        },
        {
          "output_type": "display_data",
          "data": {
            "application/javascript": [
              "\n",
              "        if (window._pyforest_update_imports_cell) { window._pyforest_update_imports_cell('from sklearn.model_selection import train_test_split\\nimport matplotlib.pyplot as plt\\nimport statistics\\nimport sys\\nimport bokeh\\nimport sklearn\\nimport tensorflow as tf\\nimport seaborn as sns\\nimport pydot\\nfrom sklearn import svm\\nimport tqdm\\nimport xgboost as xgb\\nimport spacy\\nimport plotly as py\\nimport pickle\\nimport pandas as pd\\nimport matplotlib as mpl\\nimport plotly.express as px\\nimport altair as alt'); }\n",
              "    "
            ],
            "text/plain": [
              "<IPython.core.display.Javascript object>"
            ]
          },
          "metadata": {
            "tags": []
          }
        },
        {
          "output_type": "stream",
          "text": [
            "SCORE:\n",
            "0.8409298310519177\n",
            "  7%|▋         | 7/100 [00:36<08:08,  5.25s/it, best loss: -0.8411271426809718]"
          ],
          "name": "stdout"
        },
        {
          "output_type": "display_data",
          "data": {
            "application/javascript": [
              "\n",
              "        if (window._pyforest_update_imports_cell) { window._pyforest_update_imports_cell('from sklearn.model_selection import train_test_split\\nimport matplotlib.pyplot as plt\\nimport statistics\\nimport sys\\nimport bokeh\\nimport sklearn\\nimport tensorflow as tf\\nimport seaborn as sns\\nimport pydot\\nfrom sklearn import svm\\nimport tqdm\\nimport xgboost as xgb\\nimport spacy\\nimport plotly as py\\nimport pickle\\nimport pandas as pd\\nimport matplotlib as mpl\\nimport plotly.express as px\\nimport altair as alt'); }\n",
              "    "
            ],
            "text/plain": [
              "<IPython.core.display.Javascript object>"
            ]
          },
          "metadata": {
            "tags": []
          }
        },
        {
          "output_type": "stream",
          "text": [
            "SCORE:\n",
            "0.8407941793069429\n",
            "  8%|▊         | 8/100 [00:42<08:01,  5.23s/it, best loss: -0.8411271426809718]"
          ],
          "name": "stdout"
        },
        {
          "output_type": "display_data",
          "data": {
            "application/javascript": [
              "\n",
              "        if (window._pyforest_update_imports_cell) { window._pyforest_update_imports_cell('from sklearn.model_selection import train_test_split\\nimport matplotlib.pyplot as plt\\nimport statistics\\nimport sys\\nimport bokeh\\nimport sklearn\\nimport tensorflow as tf\\nimport seaborn as sns\\nimport pydot\\nfrom sklearn import svm\\nimport tqdm\\nimport xgboost as xgb\\nimport spacy\\nimport plotly as py\\nimport pickle\\nimport pandas as pd\\nimport matplotlib as mpl\\nimport plotly.express as px\\nimport altair as alt'); }\n",
              "    "
            ],
            "text/plain": [
              "<IPython.core.display.Javascript object>"
            ]
          },
          "metadata": {
            "tags": []
          }
        },
        {
          "output_type": "stream",
          "text": [
            "SCORE:\n",
            "0.8411394746577876\n",
            "  9%|▉         | 9/100 [00:47<08:01,  5.29s/it, best loss: -0.8411394746577876]"
          ],
          "name": "stdout"
        },
        {
          "output_type": "display_data",
          "data": {
            "application/javascript": [
              "\n",
              "        if (window._pyforest_update_imports_cell) { window._pyforest_update_imports_cell('from sklearn.model_selection import train_test_split\\nimport matplotlib.pyplot as plt\\nimport statistics\\nimport sys\\nimport bokeh\\nimport sklearn\\nimport tensorflow as tf\\nimport seaborn as sns\\nimport pydot\\nfrom sklearn import svm\\nimport tqdm\\nimport xgboost as xgb\\nimport spacy\\nimport plotly as py\\nimport pickle\\nimport pandas as pd\\nimport matplotlib as mpl\\nimport plotly.express as px\\nimport altair as alt'); }\n",
              "    "
            ],
            "text/plain": [
              "<IPython.core.display.Javascript object>"
            ]
          },
          "metadata": {
            "tags": []
          }
        },
        {
          "output_type": "stream",
          "text": [
            "SCORE:\n",
            "0.8409421630287335\n",
            " 10%|█         | 10/100 [00:52<07:57,  5.31s/it, best loss: -0.8411394746577876]"
          ],
          "name": "stdout"
        },
        {
          "output_type": "display_data",
          "data": {
            "application/javascript": [
              "\n",
              "        if (window._pyforest_update_imports_cell) { window._pyforest_update_imports_cell('from sklearn.model_selection import train_test_split\\nimport matplotlib.pyplot as plt\\nimport statistics\\nimport sys\\nimport bokeh\\nimport sklearn\\nimport tensorflow as tf\\nimport seaborn as sns\\nimport pydot\\nfrom sklearn import svm\\nimport tqdm\\nimport xgboost as xgb\\nimport spacy\\nimport plotly as py\\nimport pickle\\nimport pandas as pd\\nimport matplotlib as mpl\\nimport plotly.express as px\\nimport altair as alt'); }\n",
              "    "
            ],
            "text/plain": [
              "<IPython.core.display.Javascript object>"
            ]
          },
          "metadata": {
            "tags": []
          }
        },
        {
          "output_type": "stream",
          "text": [
            "SCORE:\n",
            "0.8410531508200765\n",
            " 11%|█         | 11/100 [00:58<07:54,  5.33s/it, best loss: -0.8411394746577876]"
          ],
          "name": "stdout"
        },
        {
          "output_type": "display_data",
          "data": {
            "application/javascript": [
              "\n",
              "        if (window._pyforest_update_imports_cell) { window._pyforest_update_imports_cell('from sklearn.model_selection import train_test_split\\nimport matplotlib.pyplot as plt\\nimport statistics\\nimport sys\\nimport bokeh\\nimport sklearn\\nimport tensorflow as tf\\nimport seaborn as sns\\nimport pydot\\nfrom sklearn import svm\\nimport tqdm\\nimport xgboost as xgb\\nimport spacy\\nimport plotly as py\\nimport pickle\\nimport pandas as pd\\nimport matplotlib as mpl\\nimport plotly.express as px\\nimport altair as alt'); }\n",
              "    "
            ],
            "text/plain": [
              "<IPython.core.display.Javascript object>"
            ]
          },
          "metadata": {
            "tags": []
          }
        },
        {
          "output_type": "stream",
          "text": [
            "SCORE:\n",
            "0.841003822912813\n",
            " 12%|█▏        | 12/100 [01:03<07:50,  5.34s/it, best loss: -0.8411394746577876]"
          ],
          "name": "stdout"
        },
        {
          "output_type": "display_data",
          "data": {
            "application/javascript": [
              "\n",
              "        if (window._pyforest_update_imports_cell) { window._pyforest_update_imports_cell('from sklearn.model_selection import train_test_split\\nimport matplotlib.pyplot as plt\\nimport statistics\\nimport sys\\nimport bokeh\\nimport sklearn\\nimport tensorflow as tf\\nimport seaborn as sns\\nimport pydot\\nfrom sklearn import svm\\nimport tqdm\\nimport xgboost as xgb\\nimport spacy\\nimport plotly as py\\nimport pickle\\nimport pandas as pd\\nimport matplotlib as mpl\\nimport plotly.express as px\\nimport altair as alt'); }\n",
              "    "
            ],
            "text/plain": [
              "<IPython.core.display.Javascript object>"
            ]
          },
          "metadata": {
            "tags": []
          }
        },
        {
          "output_type": "stream",
          "text": [
            "SCORE:\n",
            "0.841003822912813\n",
            " 13%|█▎        | 13/100 [01:09<07:47,  5.37s/it, best loss: -0.8411394746577876]"
          ],
          "name": "stdout"
        },
        {
          "output_type": "display_data",
          "data": {
            "application/javascript": [
              "\n",
              "        if (window._pyforest_update_imports_cell) { window._pyforest_update_imports_cell('from sklearn.model_selection import train_test_split\\nimport matplotlib.pyplot as plt\\nimport statistics\\nimport sys\\nimport bokeh\\nimport sklearn\\nimport tensorflow as tf\\nimport seaborn as sns\\nimport pydot\\nfrom sklearn import svm\\nimport tqdm\\nimport xgboost as xgb\\nimport spacy\\nimport plotly as py\\nimport pickle\\nimport pandas as pd\\nimport matplotlib as mpl\\nimport plotly.express as px\\nimport altair as alt'); }\n",
              "    "
            ],
            "text/plain": [
              "<IPython.core.display.Javascript object>"
            ]
          },
          "metadata": {
            "tags": []
          }
        },
        {
          "output_type": "stream",
          "text": [
            "SCORE:\n",
            "0.8411394746577876\n",
            " 14%|█▍        | 14/100 [01:14<07:43,  5.39s/it, best loss: -0.8411394746577876]"
          ],
          "name": "stdout"
        },
        {
          "output_type": "display_data",
          "data": {
            "application/javascript": [
              "\n",
              "        if (window._pyforest_update_imports_cell) { window._pyforest_update_imports_cell('from sklearn.model_selection import train_test_split\\nimport matplotlib.pyplot as plt\\nimport statistics\\nimport sys\\nimport bokeh\\nimport sklearn\\nimport tensorflow as tf\\nimport seaborn as sns\\nimport pydot\\nfrom sklearn import svm\\nimport tqdm\\nimport xgboost as xgb\\nimport spacy\\nimport plotly as py\\nimport pickle\\nimport pandas as pd\\nimport matplotlib as mpl\\nimport plotly.express as px\\nimport altair as alt'); }\n",
              "    "
            ],
            "text/plain": [
              "<IPython.core.display.Javascript object>"
            ]
          },
          "metadata": {
            "tags": []
          }
        },
        {
          "output_type": "stream",
          "text": [
            "SCORE:\n",
            "0.8409298310519177\n",
            " 15%|█▌        | 15/100 [01:19<07:32,  5.33s/it, best loss: -0.8411394746577876]"
          ],
          "name": "stdout"
        },
        {
          "output_type": "display_data",
          "data": {
            "application/javascript": [
              "\n",
              "        if (window._pyforest_update_imports_cell) { window._pyforest_update_imports_cell('from sklearn.model_selection import train_test_split\\nimport matplotlib.pyplot as plt\\nimport statistics\\nimport sys\\nimport bokeh\\nimport sklearn\\nimport tensorflow as tf\\nimport seaborn as sns\\nimport pydot\\nfrom sklearn import svm\\nimport tqdm\\nimport xgboost as xgb\\nimport spacy\\nimport plotly as py\\nimport pickle\\nimport pandas as pd\\nimport matplotlib as mpl\\nimport plotly.express as px\\nimport altair as alt'); }\n",
              "    "
            ],
            "text/plain": [
              "<IPython.core.display.Javascript object>"
            ]
          },
          "metadata": {
            "tags": []
          }
        },
        {
          "output_type": "stream",
          "text": [
            "SCORE:\n",
            "0.8408805031446541\n",
            " 16%|█▌        | 16/100 [01:25<07:29,  5.35s/it, best loss: -0.8411394746577876]"
          ],
          "name": "stdout"
        },
        {
          "output_type": "display_data",
          "data": {
            "application/javascript": [
              "\n",
              "        if (window._pyforest_update_imports_cell) { window._pyforest_update_imports_cell('from sklearn.model_selection import train_test_split\\nimport matplotlib.pyplot as plt\\nimport statistics\\nimport sys\\nimport bokeh\\nimport sklearn\\nimport tensorflow as tf\\nimport seaborn as sns\\nimport pydot\\nfrom sklearn import svm\\nimport tqdm\\nimport xgboost as xgb\\nimport spacy\\nimport plotly as py\\nimport pickle\\nimport pandas as pd\\nimport matplotlib as mpl\\nimport plotly.express as px\\nimport altair as alt'); }\n",
              "    "
            ],
            "text/plain": [
              "<IPython.core.display.Javascript object>"
            ]
          },
          "metadata": {
            "tags": []
          }
        },
        {
          "output_type": "stream",
          "text": [
            "SCORE:\n",
            "0.8408558391910224\n",
            " 17%|█▋        | 17/100 [01:30<07:18,  5.28s/it, best loss: -0.8411394746577876]"
          ],
          "name": "stdout"
        },
        {
          "output_type": "display_data",
          "data": {
            "application/javascript": [
              "\n",
              "        if (window._pyforest_update_imports_cell) { window._pyforest_update_imports_cell('from sklearn.model_selection import train_test_split\\nimport matplotlib.pyplot as plt\\nimport statistics\\nimport sys\\nimport bokeh\\nimport sklearn\\nimport tensorflow as tf\\nimport seaborn as sns\\nimport pydot\\nfrom sklearn import svm\\nimport tqdm\\nimport xgboost as xgb\\nimport spacy\\nimport plotly as py\\nimport pickle\\nimport pandas as pd\\nimport matplotlib as mpl\\nimport plotly.express as px\\nimport altair as alt'); }\n",
              "    "
            ],
            "text/plain": [
              "<IPython.core.display.Javascript object>"
            ]
          },
          "metadata": {
            "tags": []
          }
        },
        {
          "output_type": "stream",
          "text": [
            "SCORE:\n",
            "0.8409544950055494\n",
            " 18%|█▊        | 18/100 [01:35<07:13,  5.29s/it, best loss: -0.8411394746577876]"
          ],
          "name": "stdout"
        },
        {
          "output_type": "display_data",
          "data": {
            "application/javascript": [
              "\n",
              "        if (window._pyforest_update_imports_cell) { window._pyforest_update_imports_cell('from sklearn.model_selection import train_test_split\\nimport matplotlib.pyplot as plt\\nimport statistics\\nimport sys\\nimport bokeh\\nimport sklearn\\nimport tensorflow as tf\\nimport seaborn as sns\\nimport pydot\\nfrom sklearn import svm\\nimport tqdm\\nimport xgboost as xgb\\nimport spacy\\nimport plotly as py\\nimport pickle\\nimport pandas as pd\\nimport matplotlib as mpl\\nimport plotly.express as px\\nimport altair as alt'); }\n",
              "    "
            ],
            "text/plain": [
              "<IPython.core.display.Javascript object>"
            ]
          },
          "metadata": {
            "tags": []
          }
        },
        {
          "output_type": "stream",
          "text": [
            "SCORE:\n",
            "0.841003822912813\n",
            " 19%|█▉        | 19/100 [01:40<07:07,  5.28s/it, best loss: -0.8411394746577876]"
          ],
          "name": "stdout"
        },
        {
          "output_type": "display_data",
          "data": {
            "application/javascript": [
              "\n",
              "        if (window._pyforest_update_imports_cell) { window._pyforest_update_imports_cell('from sklearn.model_selection import train_test_split\\nimport matplotlib.pyplot as plt\\nimport statistics\\nimport sys\\nimport bokeh\\nimport sklearn\\nimport tensorflow as tf\\nimport seaborn as sns\\nimport pydot\\nfrom sklearn import svm\\nimport tqdm\\nimport xgboost as xgb\\nimport spacy\\nimport plotly as py\\nimport pickle\\nimport pandas as pd\\nimport matplotlib as mpl\\nimport plotly.express as px\\nimport altair as alt'); }\n",
              "    "
            ],
            "text/plain": [
              "<IPython.core.display.Javascript object>"
            ]
          },
          "metadata": {
            "tags": []
          }
        },
        {
          "output_type": "stream",
          "text": [
            "SCORE:\n",
            "0.8409668269823652\n",
            " 20%|██        | 20/100 [01:45<06:57,  5.22s/it, best loss: -0.8411394746577876]"
          ],
          "name": "stdout"
        },
        {
          "output_type": "display_data",
          "data": {
            "application/javascript": [
              "\n",
              "        if (window._pyforest_update_imports_cell) { window._pyforest_update_imports_cell('from sklearn.model_selection import train_test_split\\nimport matplotlib.pyplot as plt\\nimport statistics\\nimport sys\\nimport bokeh\\nimport sklearn\\nimport tensorflow as tf\\nimport seaborn as sns\\nimport pydot\\nfrom sklearn import svm\\nimport tqdm\\nimport xgboost as xgb\\nimport spacy\\nimport plotly as py\\nimport pickle\\nimport pandas as pd\\nimport matplotlib as mpl\\nimport plotly.express as px\\nimport altair as alt'); }\n",
              "    "
            ],
            "text/plain": [
              "<IPython.core.display.Javascript object>"
            ]
          },
          "metadata": {
            "tags": []
          }
        },
        {
          "output_type": "stream",
          "text": [
            "SCORE:\n",
            "0.8411518066346035\n",
            " 21%|██        | 21/100 [01:51<06:56,  5.27s/it, best loss: -0.8411518066346035]"
          ],
          "name": "stdout"
        },
        {
          "output_type": "display_data",
          "data": {
            "application/javascript": [
              "\n",
              "        if (window._pyforest_update_imports_cell) { window._pyforest_update_imports_cell('from sklearn.model_selection import train_test_split\\nimport matplotlib.pyplot as plt\\nimport statistics\\nimport sys\\nimport bokeh\\nimport sklearn\\nimport tensorflow as tf\\nimport seaborn as sns\\nimport pydot\\nfrom sklearn import svm\\nimport tqdm\\nimport xgboost as xgb\\nimport spacy\\nimport plotly as py\\nimport pickle\\nimport pandas as pd\\nimport matplotlib as mpl\\nimport plotly.express as px\\nimport altair as alt'); }\n",
              "    "
            ],
            "text/plain": [
              "<IPython.core.display.Javascript object>"
            ]
          },
          "metadata": {
            "tags": []
          }
        },
        {
          "output_type": "stream",
          "text": [
            "SCORE:\n",
            "0.84110247872734\n",
            " 22%|██▏       | 22/100 [01:56<06:55,  5.33s/it, best loss: -0.8411518066346035]"
          ],
          "name": "stdout"
        },
        {
          "output_type": "display_data",
          "data": {
            "application/javascript": [
              "\n",
              "        if (window._pyforest_update_imports_cell) { window._pyforest_update_imports_cell('from sklearn.model_selection import train_test_split\\nimport matplotlib.pyplot as plt\\nimport statistics\\nimport sys\\nimport bokeh\\nimport sklearn\\nimport tensorflow as tf\\nimport seaborn as sns\\nimport pydot\\nfrom sklearn import svm\\nimport tqdm\\nimport xgboost as xgb\\nimport spacy\\nimport plotly as py\\nimport pickle\\nimport pandas as pd\\nimport matplotlib as mpl\\nimport plotly.express as px\\nimport altair as alt'); }\n",
              "    "
            ],
            "text/plain": [
              "<IPython.core.display.Javascript object>"
            ]
          },
          "metadata": {
            "tags": []
          }
        },
        {
          "output_type": "stream",
          "text": [
            "SCORE:\n",
            "0.841003822912813\n",
            " 23%|██▎       | 23/100 [02:02<06:49,  5.32s/it, best loss: -0.8411518066346035]"
          ],
          "name": "stdout"
        },
        {
          "output_type": "display_data",
          "data": {
            "application/javascript": [
              "\n",
              "        if (window._pyforest_update_imports_cell) { window._pyforest_update_imports_cell('from sklearn.model_selection import train_test_split\\nimport matplotlib.pyplot as plt\\nimport statistics\\nimport sys\\nimport bokeh\\nimport sklearn\\nimport tensorflow as tf\\nimport seaborn as sns\\nimport pydot\\nfrom sklearn import svm\\nimport tqdm\\nimport xgboost as xgb\\nimport spacy\\nimport plotly as py\\nimport pickle\\nimport pandas as pd\\nimport matplotlib as mpl\\nimport plotly.express as px\\nimport altair as alt'); }\n",
              "    "
            ],
            "text/plain": [
              "<IPython.core.display.Javascript object>"
            ]
          },
          "metadata": {
            "tags": []
          }
        },
        {
          "output_type": "stream",
          "text": [
            "SCORE:\n",
            "0.84110247872734\n",
            " 24%|██▍       | 24/100 [02:07<06:47,  5.36s/it, best loss: -0.8411518066346035]"
          ],
          "name": "stdout"
        },
        {
          "output_type": "display_data",
          "data": {
            "application/javascript": [
              "\n",
              "        if (window._pyforest_update_imports_cell) { window._pyforest_update_imports_cell('from sklearn.model_selection import train_test_split\\nimport matplotlib.pyplot as plt\\nimport statistics\\nimport sys\\nimport bokeh\\nimport sklearn\\nimport tensorflow as tf\\nimport seaborn as sns\\nimport pydot\\nfrom sklearn import svm\\nimport tqdm\\nimport xgboost as xgb\\nimport spacy\\nimport plotly as py\\nimport pickle\\nimport pandas as pd\\nimport matplotlib as mpl\\nimport plotly.express as px\\nimport altair as alt'); }\n",
              "    "
            ],
            "text/plain": [
              "<IPython.core.display.Javascript object>"
            ]
          },
          "metadata": {
            "tags": []
          }
        },
        {
          "output_type": "stream",
          "text": [
            "SCORE:\n",
            "0.8410901467505241\n",
            " 25%|██▌       | 25/100 [02:12<06:41,  5.36s/it, best loss: -0.8411518066346035]"
          ],
          "name": "stdout"
        },
        {
          "output_type": "display_data",
          "data": {
            "application/javascript": [
              "\n",
              "        if (window._pyforest_update_imports_cell) { window._pyforest_update_imports_cell('from sklearn.model_selection import train_test_split\\nimport matplotlib.pyplot as plt\\nimport statistics\\nimport sys\\nimport bokeh\\nimport sklearn\\nimport tensorflow as tf\\nimport seaborn as sns\\nimport pydot\\nfrom sklearn import svm\\nimport tqdm\\nimport xgboost as xgb\\nimport spacy\\nimport plotly as py\\nimport pickle\\nimport pandas as pd\\nimport matplotlib as mpl\\nimport plotly.express as px\\nimport altair as alt'); }\n",
              "    "
            ],
            "text/plain": [
              "<IPython.core.display.Javascript object>"
            ]
          },
          "metadata": {
            "tags": []
          }
        },
        {
          "output_type": "stream",
          "text": [
            "SCORE:\n",
            "0.8411518066346035\n",
            " 26%|██▌       | 26/100 [02:18<06:38,  5.39s/it, best loss: -0.8411518066346035]"
          ],
          "name": "stdout"
        },
        {
          "output_type": "display_data",
          "data": {
            "application/javascript": [
              "\n",
              "        if (window._pyforest_update_imports_cell) { window._pyforest_update_imports_cell('from sklearn.model_selection import train_test_split\\nimport matplotlib.pyplot as plt\\nimport statistics\\nimport sys\\nimport bokeh\\nimport sklearn\\nimport tensorflow as tf\\nimport seaborn as sns\\nimport pydot\\nfrom sklearn import svm\\nimport tqdm\\nimport xgboost as xgb\\nimport spacy\\nimport plotly as py\\nimport pickle\\nimport pandas as pd\\nimport matplotlib as mpl\\nimport plotly.express as px\\nimport altair as alt'); }\n",
              "    "
            ],
            "text/plain": [
              "<IPython.core.display.Javascript object>"
            ]
          },
          "metadata": {
            "tags": []
          }
        },
        {
          "output_type": "stream",
          "text": [
            "SCORE:\n",
            "0.8411518066346035\n",
            " 27%|██▋       | 27/100 [02:23<06:32,  5.38s/it, best loss: -0.8411518066346035]"
          ],
          "name": "stdout"
        },
        {
          "output_type": "display_data",
          "data": {
            "application/javascript": [
              "\n",
              "        if (window._pyforest_update_imports_cell) { window._pyforest_update_imports_cell('from sklearn.model_selection import train_test_split\\nimport matplotlib.pyplot as plt\\nimport statistics\\nimport sys\\nimport bokeh\\nimport sklearn\\nimport tensorflow as tf\\nimport seaborn as sns\\nimport pydot\\nfrom sklearn import svm\\nimport tqdm\\nimport xgboost as xgb\\nimport spacy\\nimport plotly as py\\nimport pickle\\nimport pandas as pd\\nimport matplotlib as mpl\\nimport plotly.express as px\\nimport altair as alt'); }\n",
              "    "
            ],
            "text/plain": [
              "<IPython.core.display.Javascript object>"
            ]
          },
          "metadata": {
            "tags": []
          }
        },
        {
          "output_type": "stream",
          "text": [
            "SCORE:\n",
            "0.8409791589591812\n",
            " 28%|██▊       | 28/100 [02:28<06:26,  5.36s/it, best loss: -0.8411518066346035]"
          ],
          "name": "stdout"
        },
        {
          "output_type": "display_data",
          "data": {
            "application/javascript": [
              "\n",
              "        if (window._pyforest_update_imports_cell) { window._pyforest_update_imports_cell('from sklearn.model_selection import train_test_split\\nimport matplotlib.pyplot as plt\\nimport statistics\\nimport sys\\nimport bokeh\\nimport sklearn\\nimport tensorflow as tf\\nimport seaborn as sns\\nimport pydot\\nfrom sklearn import svm\\nimport tqdm\\nimport xgboost as xgb\\nimport spacy\\nimport plotly as py\\nimport pickle\\nimport pandas as pd\\nimport matplotlib as mpl\\nimport plotly.express as px\\nimport altair as alt'); }\n",
              "    "
            ],
            "text/plain": [
              "<IPython.core.display.Javascript object>"
            ]
          },
          "metadata": {
            "tags": []
          }
        },
        {
          "output_type": "stream",
          "text": [
            "SCORE:\n",
            "0.8411394746577876\n",
            " 29%|██▉       | 29/100 [02:34<06:21,  5.38s/it, best loss: -0.8411518066346035]"
          ],
          "name": "stdout"
        },
        {
          "output_type": "display_data",
          "data": {
            "application/javascript": [
              "\n",
              "        if (window._pyforest_update_imports_cell) { window._pyforest_update_imports_cell('from sklearn.model_selection import train_test_split\\nimport matplotlib.pyplot as plt\\nimport statistics\\nimport sys\\nimport bokeh\\nimport sklearn\\nimport tensorflow as tf\\nimport seaborn as sns\\nimport pydot\\nfrom sklearn import svm\\nimport tqdm\\nimport xgboost as xgb\\nimport spacy\\nimport plotly as py\\nimport pickle\\nimport pandas as pd\\nimport matplotlib as mpl\\nimport plotly.express as px\\nimport altair as alt'); }\n",
              "    "
            ],
            "text/plain": [
              "<IPython.core.display.Javascript object>"
            ]
          },
          "metadata": {
            "tags": []
          }
        },
        {
          "output_type": "stream",
          "text": [
            "SCORE:\n",
            "0.8411394746577876\n",
            " 30%|███       | 30/100 [02:39<06:16,  5.38s/it, best loss: -0.8411518066346035]"
          ],
          "name": "stdout"
        },
        {
          "output_type": "display_data",
          "data": {
            "application/javascript": [
              "\n",
              "        if (window._pyforest_update_imports_cell) { window._pyforest_update_imports_cell('from sklearn.model_selection import train_test_split\\nimport matplotlib.pyplot as plt\\nimport statistics\\nimport sys\\nimport bokeh\\nimport sklearn\\nimport tensorflow as tf\\nimport seaborn as sns\\nimport pydot\\nfrom sklearn import svm\\nimport tqdm\\nimport xgboost as xgb\\nimport spacy\\nimport plotly as py\\nimport pickle\\nimport pandas as pd\\nimport matplotlib as mpl\\nimport plotly.express as px\\nimport altair as alt'); }\n",
              "    "
            ],
            "text/plain": [
              "<IPython.core.display.Javascript object>"
            ]
          },
          "metadata": {
            "tags": []
          }
        },
        {
          "output_type": "stream",
          "text": [
            "SCORE:\n",
            "0.8411518066346035\n",
            " 31%|███       | 31/100 [02:45<06:11,  5.39s/it, best loss: -0.8411518066346035]"
          ],
          "name": "stdout"
        },
        {
          "output_type": "display_data",
          "data": {
            "application/javascript": [
              "\n",
              "        if (window._pyforest_update_imports_cell) { window._pyforest_update_imports_cell('from sklearn.model_selection import train_test_split\\nimport matplotlib.pyplot as plt\\nimport statistics\\nimport sys\\nimport bokeh\\nimport sklearn\\nimport tensorflow as tf\\nimport seaborn as sns\\nimport pydot\\nfrom sklearn import svm\\nimport tqdm\\nimport xgboost as xgb\\nimport spacy\\nimport plotly as py\\nimport pickle\\nimport pandas as pd\\nimport matplotlib as mpl\\nimport plotly.express as px\\nimport altair as alt'); }\n",
              "    "
            ],
            "text/plain": [
              "<IPython.core.display.Javascript object>"
            ]
          },
          "metadata": {
            "tags": []
          }
        },
        {
          "output_type": "stream",
          "text": [
            "SCORE:\n",
            "0.8409791589591812\n",
            " 32%|███▏      | 32/100 [02:50<06:05,  5.37s/it, best loss: -0.8411518066346035]"
          ],
          "name": "stdout"
        },
        {
          "output_type": "display_data",
          "data": {
            "application/javascript": [
              "\n",
              "        if (window._pyforest_update_imports_cell) { window._pyforest_update_imports_cell('from sklearn.model_selection import train_test_split\\nimport matplotlib.pyplot as plt\\nimport statistics\\nimport sys\\nimport bokeh\\nimport sklearn\\nimport tensorflow as tf\\nimport seaborn as sns\\nimport pydot\\nfrom sklearn import svm\\nimport tqdm\\nimport xgboost as xgb\\nimport spacy\\nimport plotly as py\\nimport pickle\\nimport pandas as pd\\nimport matplotlib as mpl\\nimport plotly.express as px\\nimport altair as alt'); }\n",
              "    "
            ],
            "text/plain": [
              "<IPython.core.display.Javascript object>"
            ]
          },
          "metadata": {
            "tags": []
          }
        },
        {
          "output_type": "stream",
          "text": [
            "SCORE:\n",
            "0.8411518066346035\n",
            " 33%|███▎      | 33/100 [02:55<06:00,  5.38s/it, best loss: -0.8411518066346035]"
          ],
          "name": "stdout"
        },
        {
          "output_type": "display_data",
          "data": {
            "application/javascript": [
              "\n",
              "        if (window._pyforest_update_imports_cell) { window._pyforest_update_imports_cell('from sklearn.model_selection import train_test_split\\nimport matplotlib.pyplot as plt\\nimport statistics\\nimport sys\\nimport bokeh\\nimport sklearn\\nimport tensorflow as tf\\nimport seaborn as sns\\nimport pydot\\nfrom sklearn import svm\\nimport tqdm\\nimport xgboost as xgb\\nimport spacy\\nimport plotly as py\\nimport pickle\\nimport pandas as pd\\nimport matplotlib as mpl\\nimport plotly.express as px\\nimport altair as alt'); }\n",
              "    "
            ],
            "text/plain": [
              "<IPython.core.display.Javascript object>"
            ]
          },
          "metadata": {
            "tags": []
          }
        },
        {
          "output_type": "stream",
          "text": [
            "SCORE:\n",
            "0.8410408188432605\n",
            " 34%|███▍      | 34/100 [03:01<05:54,  5.38s/it, best loss: -0.8411518066346035]"
          ],
          "name": "stdout"
        },
        {
          "output_type": "display_data",
          "data": {
            "application/javascript": [
              "\n",
              "        if (window._pyforest_update_imports_cell) { window._pyforest_update_imports_cell('from sklearn.model_selection import train_test_split\\nimport matplotlib.pyplot as plt\\nimport statistics\\nimport sys\\nimport bokeh\\nimport sklearn\\nimport tensorflow as tf\\nimport seaborn as sns\\nimport pydot\\nfrom sklearn import svm\\nimport tqdm\\nimport xgboost as xgb\\nimport spacy\\nimport plotly as py\\nimport pickle\\nimport pandas as pd\\nimport matplotlib as mpl\\nimport plotly.express as px\\nimport altair as alt'); }\n",
              "    "
            ],
            "text/plain": [
              "<IPython.core.display.Javascript object>"
            ]
          },
          "metadata": {
            "tags": []
          }
        },
        {
          "output_type": "stream",
          "text": [
            "SCORE:\n",
            "0.8410161548896288\n",
            " 35%|███▌      | 35/100 [03:06<05:49,  5.38s/it, best loss: -0.8411518066346035]"
          ],
          "name": "stdout"
        },
        {
          "output_type": "display_data",
          "data": {
            "application/javascript": [
              "\n",
              "        if (window._pyforest_update_imports_cell) { window._pyforest_update_imports_cell('from sklearn.model_selection import train_test_split\\nimport matplotlib.pyplot as plt\\nimport statistics\\nimport sys\\nimport bokeh\\nimport sklearn\\nimport tensorflow as tf\\nimport seaborn as sns\\nimport pydot\\nfrom sklearn import svm\\nimport tqdm\\nimport xgboost as xgb\\nimport spacy\\nimport plotly as py\\nimport pickle\\nimport pandas as pd\\nimport matplotlib as mpl\\nimport plotly.express as px\\nimport altair as alt'); }\n",
              "    "
            ],
            "text/plain": [
              "<IPython.core.display.Javascript object>"
            ]
          },
          "metadata": {
            "tags": []
          }
        },
        {
          "output_type": "stream",
          "text": [
            "SCORE:\n",
            "0.8409791589591812\n",
            " 36%|███▌      | 36/100 [03:12<05:43,  5.37s/it, best loss: -0.8411518066346035]"
          ],
          "name": "stdout"
        },
        {
          "output_type": "display_data",
          "data": {
            "application/javascript": [
              "\n",
              "        if (window._pyforest_update_imports_cell) { window._pyforest_update_imports_cell('from sklearn.model_selection import train_test_split\\nimport matplotlib.pyplot as plt\\nimport statistics\\nimport sys\\nimport bokeh\\nimport sklearn\\nimport tensorflow as tf\\nimport seaborn as sns\\nimport pydot\\nfrom sklearn import svm\\nimport tqdm\\nimport xgboost as xgb\\nimport spacy\\nimport plotly as py\\nimport pickle\\nimport pandas as pd\\nimport matplotlib as mpl\\nimport plotly.express as px\\nimport altair as alt'); }\n",
              "    "
            ],
            "text/plain": [
              "<IPython.core.display.Javascript object>"
            ]
          },
          "metadata": {
            "tags": []
          }
        },
        {
          "output_type": "stream",
          "text": [
            "SCORE:\n",
            "0.8409544950055494\n",
            " 37%|███▋      | 37/100 [03:17<05:37,  5.36s/it, best loss: -0.8411518066346035]"
          ],
          "name": "stdout"
        },
        {
          "output_type": "display_data",
          "data": {
            "application/javascript": [
              "\n",
              "        if (window._pyforest_update_imports_cell) { window._pyforest_update_imports_cell('from sklearn.model_selection import train_test_split\\nimport matplotlib.pyplot as plt\\nimport statistics\\nimport sys\\nimport bokeh\\nimport sklearn\\nimport tensorflow as tf\\nimport seaborn as sns\\nimport pydot\\nfrom sklearn import svm\\nimport tqdm\\nimport xgboost as xgb\\nimport spacy\\nimport plotly as py\\nimport pickle\\nimport pandas as pd\\nimport matplotlib as mpl\\nimport plotly.express as px\\nimport altair as alt'); }\n",
              "    "
            ],
            "text/plain": [
              "<IPython.core.display.Javascript object>"
            ]
          },
          "metadata": {
            "tags": []
          }
        },
        {
          "output_type": "stream",
          "text": [
            "SCORE:\n",
            "0.8411518066346035\n",
            " 38%|███▊      | 38/100 [03:22<05:32,  5.37s/it, best loss: -0.8411518066346035]"
          ],
          "name": "stdout"
        },
        {
          "output_type": "display_data",
          "data": {
            "application/javascript": [
              "\n",
              "        if (window._pyforest_update_imports_cell) { window._pyforest_update_imports_cell('from sklearn.model_selection import train_test_split\\nimport matplotlib.pyplot as plt\\nimport statistics\\nimport sys\\nimport bokeh\\nimport sklearn\\nimport tensorflow as tf\\nimport seaborn as sns\\nimport pydot\\nfrom sklearn import svm\\nimport tqdm\\nimport xgboost as xgb\\nimport spacy\\nimport plotly as py\\nimport pickle\\nimport pandas as pd\\nimport matplotlib as mpl\\nimport plotly.express as px\\nimport altair as alt'); }\n",
              "    "
            ],
            "text/plain": [
              "<IPython.core.display.Javascript object>"
            ]
          },
          "metadata": {
            "tags": []
          }
        },
        {
          "output_type": "stream",
          "text": [
            "SCORE:\n",
            "0.8408805031446541\n",
            " 39%|███▉      | 39/100 [03:27<05:25,  5.33s/it, best loss: -0.8411518066346035]"
          ],
          "name": "stdout"
        },
        {
          "output_type": "display_data",
          "data": {
            "application/javascript": [
              "\n",
              "        if (window._pyforest_update_imports_cell) { window._pyforest_update_imports_cell('from sklearn.model_selection import train_test_split\\nimport matplotlib.pyplot as plt\\nimport statistics\\nimport sys\\nimport bokeh\\nimport sklearn\\nimport tensorflow as tf\\nimport seaborn as sns\\nimport pydot\\nfrom sklearn import svm\\nimport tqdm\\nimport xgboost as xgb\\nimport spacy\\nimport plotly as py\\nimport pickle\\nimport pandas as pd\\nimport matplotlib as mpl\\nimport plotly.express as px\\nimport altair as alt'); }\n",
              "    "
            ],
            "text/plain": [
              "<IPython.core.display.Javascript object>"
            ]
          },
          "metadata": {
            "tags": []
          }
        },
        {
          "output_type": "stream",
          "text": [
            "SCORE:\n",
            "0.8410901467505241\n",
            " 40%|████      | 40/100 [03:33<05:22,  5.37s/it, best loss: -0.8411518066346035]"
          ],
          "name": "stdout"
        },
        {
          "output_type": "display_data",
          "data": {
            "application/javascript": [
              "\n",
              "        if (window._pyforest_update_imports_cell) { window._pyforest_update_imports_cell('from sklearn.model_selection import train_test_split\\nimport matplotlib.pyplot as plt\\nimport statistics\\nimport sys\\nimport bokeh\\nimport sklearn\\nimport tensorflow as tf\\nimport seaborn as sns\\nimport pydot\\nfrom sklearn import svm\\nimport tqdm\\nimport xgboost as xgb\\nimport spacy\\nimport plotly as py\\nimport pickle\\nimport pandas as pd\\nimport matplotlib as mpl\\nimport plotly.express as px\\nimport altair as alt'); }\n",
              "    "
            ],
            "text/plain": [
              "<IPython.core.display.Javascript object>"
            ]
          },
          "metadata": {
            "tags": []
          }
        },
        {
          "output_type": "stream",
          "text": [
            "SCORE:\n",
            "0.8411394746577876\n",
            " 41%|████      | 41/100 [03:38<05:17,  5.39s/it, best loss: -0.8411518066346035]"
          ],
          "name": "stdout"
        },
        {
          "output_type": "display_data",
          "data": {
            "application/javascript": [
              "\n",
              "        if (window._pyforest_update_imports_cell) { window._pyforest_update_imports_cell('from sklearn.model_selection import train_test_split\\nimport matplotlib.pyplot as plt\\nimport statistics\\nimport sys\\nimport bokeh\\nimport sklearn\\nimport tensorflow as tf\\nimport seaborn as sns\\nimport pydot\\nfrom sklearn import svm\\nimport tqdm\\nimport xgboost as xgb\\nimport spacy\\nimport plotly as py\\nimport pickle\\nimport pandas as pd\\nimport matplotlib as mpl\\nimport plotly.express as px\\nimport altair as alt'); }\n",
              "    "
            ],
            "text/plain": [
              "<IPython.core.display.Javascript object>"
            ]
          },
          "metadata": {
            "tags": []
          }
        },
        {
          "output_type": "stream",
          "text": [
            "SCORE:\n",
            "0.8409051670982859\n",
            " 42%|████▏     | 42/100 [03:44<05:07,  5.31s/it, best loss: -0.8411518066346035]"
          ],
          "name": "stdout"
        },
        {
          "output_type": "display_data",
          "data": {
            "application/javascript": [
              "\n",
              "        if (window._pyforest_update_imports_cell) { window._pyforest_update_imports_cell('from sklearn.model_selection import train_test_split\\nimport matplotlib.pyplot as plt\\nimport statistics\\nimport sys\\nimport bokeh\\nimport sklearn\\nimport tensorflow as tf\\nimport seaborn as sns\\nimport pydot\\nfrom sklearn import svm\\nimport tqdm\\nimport xgboost as xgb\\nimport spacy\\nimport plotly as py\\nimport pickle\\nimport pandas as pd\\nimport matplotlib as mpl\\nimport plotly.express as px\\nimport altair as alt'); }\n",
              "    "
            ],
            "text/plain": [
              "<IPython.core.display.Javascript object>"
            ]
          },
          "metadata": {
            "tags": []
          }
        },
        {
          "output_type": "stream",
          "text": [
            "SCORE:\n",
            "0.8409668269823652\n",
            " 43%|████▎     | 43/100 [03:49<05:02,  5.31s/it, best loss: -0.8411518066346035]"
          ],
          "name": "stdout"
        },
        {
          "output_type": "display_data",
          "data": {
            "application/javascript": [
              "\n",
              "        if (window._pyforest_update_imports_cell) { window._pyforest_update_imports_cell('from sklearn.model_selection import train_test_split\\nimport matplotlib.pyplot as plt\\nimport statistics\\nimport sys\\nimport bokeh\\nimport sklearn\\nimport tensorflow as tf\\nimport seaborn as sns\\nimport pydot\\nfrom sklearn import svm\\nimport tqdm\\nimport xgboost as xgb\\nimport spacy\\nimport plotly as py\\nimport pickle\\nimport pandas as pd\\nimport matplotlib as mpl\\nimport plotly.express as px\\nimport altair as alt'); }\n",
              "    "
            ],
            "text/plain": [
              "<IPython.core.display.Javascript object>"
            ]
          },
          "metadata": {
            "tags": []
          }
        },
        {
          "output_type": "stream",
          "text": [
            "SCORE:\n",
            "0.8409668269823652\n",
            " 44%|████▍     | 44/100 [03:54<04:57,  5.32s/it, best loss: -0.8411518066346035]"
          ],
          "name": "stdout"
        },
        {
          "output_type": "display_data",
          "data": {
            "application/javascript": [
              "\n",
              "        if (window._pyforest_update_imports_cell) { window._pyforest_update_imports_cell('from sklearn.model_selection import train_test_split\\nimport matplotlib.pyplot as plt\\nimport statistics\\nimport sys\\nimport bokeh\\nimport sklearn\\nimport tensorflow as tf\\nimport seaborn as sns\\nimport pydot\\nfrom sklearn import svm\\nimport tqdm\\nimport xgboost as xgb\\nimport spacy\\nimport plotly as py\\nimport pickle\\nimport pandas as pd\\nimport matplotlib as mpl\\nimport plotly.express as px\\nimport altair as alt'); }\n",
              "    "
            ],
            "text/plain": [
              "<IPython.core.display.Javascript object>"
            ]
          },
          "metadata": {
            "tags": []
          }
        },
        {
          "output_type": "stream",
          "text": [
            "SCORE:\n",
            "0.8411148107041558\n",
            " 45%|████▌     | 45/100 [04:00<04:54,  5.35s/it, best loss: -0.8411518066346035]"
          ],
          "name": "stdout"
        },
        {
          "output_type": "display_data",
          "data": {
            "application/javascript": [
              "\n",
              "        if (window._pyforest_update_imports_cell) { window._pyforest_update_imports_cell('from sklearn.model_selection import train_test_split\\nimport matplotlib.pyplot as plt\\nimport statistics\\nimport sys\\nimport bokeh\\nimport sklearn\\nimport tensorflow as tf\\nimport seaborn as sns\\nimport pydot\\nfrom sklearn import svm\\nimport tqdm\\nimport xgboost as xgb\\nimport spacy\\nimport plotly as py\\nimport pickle\\nimport pandas as pd\\nimport matplotlib as mpl\\nimport plotly.express as px\\nimport altair as alt'); }\n",
              "    "
            ],
            "text/plain": [
              "<IPython.core.display.Javascript object>"
            ]
          },
          "metadata": {
            "tags": []
          }
        },
        {
          "output_type": "stream",
          "text": [
            "SCORE:\n",
            "0.8409298310519177\n",
            " 46%|████▌     | 46/100 [04:05<04:48,  5.34s/it, best loss: -0.8411518066346035]"
          ],
          "name": "stdout"
        },
        {
          "output_type": "display_data",
          "data": {
            "application/javascript": [
              "\n",
              "        if (window._pyforest_update_imports_cell) { window._pyforest_update_imports_cell('from sklearn.model_selection import train_test_split\\nimport matplotlib.pyplot as plt\\nimport statistics\\nimport sys\\nimport bokeh\\nimport sklearn\\nimport tensorflow as tf\\nimport seaborn as sns\\nimport pydot\\nfrom sklearn import svm\\nimport tqdm\\nimport xgboost as xgb\\nimport spacy\\nimport plotly as py\\nimport pickle\\nimport pandas as pd\\nimport matplotlib as mpl\\nimport plotly.express as px\\nimport altair as alt'); }\n",
              "    "
            ],
            "text/plain": [
              "<IPython.core.display.Javascript object>"
            ]
          },
          "metadata": {
            "tags": []
          }
        },
        {
          "output_type": "stream",
          "text": [
            "SCORE:\n",
            "0.8409668269823652\n",
            " 47%|████▋     | 47/100 [04:10<04:39,  5.27s/it, best loss: -0.8411518066346035]"
          ],
          "name": "stdout"
        },
        {
          "output_type": "display_data",
          "data": {
            "application/javascript": [
              "\n",
              "        if (window._pyforest_update_imports_cell) { window._pyforest_update_imports_cell('from sklearn.model_selection import train_test_split\\nimport matplotlib.pyplot as plt\\nimport statistics\\nimport sys\\nimport bokeh\\nimport sklearn\\nimport tensorflow as tf\\nimport seaborn as sns\\nimport pydot\\nfrom sklearn import svm\\nimport tqdm\\nimport xgboost as xgb\\nimport spacy\\nimport plotly as py\\nimport pickle\\nimport pandas as pd\\nimport matplotlib as mpl\\nimport plotly.express as px\\nimport altair as alt'); }\n",
              "    "
            ],
            "text/plain": [
              "<IPython.core.display.Javascript object>"
            ]
          },
          "metadata": {
            "tags": []
          }
        },
        {
          "output_type": "stream",
          "text": [
            "SCORE:\n",
            "0.8411518066346035\n",
            " 48%|████▊     | 48/100 [04:15<04:35,  5.30s/it, best loss: -0.8411518066346035]"
          ],
          "name": "stdout"
        },
        {
          "output_type": "display_data",
          "data": {
            "application/javascript": [
              "\n",
              "        if (window._pyforest_update_imports_cell) { window._pyforest_update_imports_cell('from sklearn.model_selection import train_test_split\\nimport matplotlib.pyplot as plt\\nimport statistics\\nimport sys\\nimport bokeh\\nimport sklearn\\nimport tensorflow as tf\\nimport seaborn as sns\\nimport pydot\\nfrom sklearn import svm\\nimport tqdm\\nimport xgboost as xgb\\nimport spacy\\nimport plotly as py\\nimport pickle\\nimport pandas as pd\\nimport matplotlib as mpl\\nimport plotly.express as px\\nimport altair as alt'); }\n",
              "    "
            ],
            "text/plain": [
              "<IPython.core.display.Javascript object>"
            ]
          },
          "metadata": {
            "tags": []
          }
        },
        {
          "output_type": "stream",
          "text": [
            "SCORE:\n",
            "0.8409791589591812\n",
            " 49%|████▉     | 49/100 [04:21<04:30,  5.31s/it, best loss: -0.8411518066346035]"
          ],
          "name": "stdout"
        },
        {
          "output_type": "display_data",
          "data": {
            "application/javascript": [
              "\n",
              "        if (window._pyforest_update_imports_cell) { window._pyforest_update_imports_cell('from sklearn.model_selection import train_test_split\\nimport matplotlib.pyplot as plt\\nimport statistics\\nimport sys\\nimport bokeh\\nimport sklearn\\nimport tensorflow as tf\\nimport seaborn as sns\\nimport pydot\\nfrom sklearn import svm\\nimport tqdm\\nimport xgboost as xgb\\nimport spacy\\nimport plotly as py\\nimport pickle\\nimport pandas as pd\\nimport matplotlib as mpl\\nimport plotly.express as px\\nimport altair as alt'); }\n",
              "    "
            ],
            "text/plain": [
              "<IPython.core.display.Javascript object>"
            ]
          },
          "metadata": {
            "tags": []
          }
        },
        {
          "output_type": "stream",
          "text": [
            "SCORE:\n",
            "0.8410161548896288\n",
            " 50%|█████     | 50/100 [04:26<04:26,  5.32s/it, best loss: -0.8411518066346035]"
          ],
          "name": "stdout"
        },
        {
          "output_type": "display_data",
          "data": {
            "application/javascript": [
              "\n",
              "        if (window._pyforest_update_imports_cell) { window._pyforest_update_imports_cell('from sklearn.model_selection import train_test_split\\nimport matplotlib.pyplot as plt\\nimport statistics\\nimport sys\\nimport bokeh\\nimport sklearn\\nimport tensorflow as tf\\nimport seaborn as sns\\nimport pydot\\nfrom sklearn import svm\\nimport tqdm\\nimport xgboost as xgb\\nimport spacy\\nimport plotly as py\\nimport pickle\\nimport pandas as pd\\nimport matplotlib as mpl\\nimport plotly.express as px\\nimport altair as alt'); }\n",
              "    "
            ],
            "text/plain": [
              "<IPython.core.display.Javascript object>"
            ]
          },
          "metadata": {
            "tags": []
          }
        },
        {
          "output_type": "stream",
          "text": [
            "SCORE:\n",
            "0.8410531508200765\n",
            " 51%|█████     | 51/100 [04:31<04:21,  5.33s/it, best loss: -0.8411518066346035]"
          ],
          "name": "stdout"
        },
        {
          "output_type": "display_data",
          "data": {
            "application/javascript": [
              "\n",
              "        if (window._pyforest_update_imports_cell) { window._pyforest_update_imports_cell('from sklearn.model_selection import train_test_split\\nimport matplotlib.pyplot as plt\\nimport statistics\\nimport sys\\nimport bokeh\\nimport sklearn\\nimport tensorflow as tf\\nimport seaborn as sns\\nimport pydot\\nfrom sklearn import svm\\nimport tqdm\\nimport xgboost as xgb\\nimport spacy\\nimport plotly as py\\nimport pickle\\nimport pandas as pd\\nimport matplotlib as mpl\\nimport plotly.express as px\\nimport altair as alt'); }\n",
              "    "
            ],
            "text/plain": [
              "<IPython.core.display.Javascript object>"
            ]
          },
          "metadata": {
            "tags": []
          }
        },
        {
          "output_type": "stream",
          "text": [
            "SCORE:\n",
            "0.8408681711678382\n",
            " 52%|█████▏    | 52/100 [04:37<04:15,  5.31s/it, best loss: -0.8411518066346035]"
          ],
          "name": "stdout"
        },
        {
          "output_type": "display_data",
          "data": {
            "application/javascript": [
              "\n",
              "        if (window._pyforest_update_imports_cell) { window._pyforest_update_imports_cell('from sklearn.model_selection import train_test_split\\nimport matplotlib.pyplot as plt\\nimport statistics\\nimport sys\\nimport bokeh\\nimport sklearn\\nimport tensorflow as tf\\nimport seaborn as sns\\nimport pydot\\nfrom sklearn import svm\\nimport tqdm\\nimport xgboost as xgb\\nimport spacy\\nimport plotly as py\\nimport pickle\\nimport pandas as pd\\nimport matplotlib as mpl\\nimport plotly.express as px\\nimport altair as alt'); }\n",
              "    "
            ],
            "text/plain": [
              "<IPython.core.display.Javascript object>"
            ]
          },
          "metadata": {
            "tags": []
          }
        },
        {
          "output_type": "stream",
          "text": [
            "SCORE:\n",
            "0.8408065112837588\n",
            " 53%|█████▎    | 53/100 [04:42<04:07,  5.26s/it, best loss: -0.8411518066346035]"
          ],
          "name": "stdout"
        },
        {
          "output_type": "display_data",
          "data": {
            "application/javascript": [
              "\n",
              "        if (window._pyforest_update_imports_cell) { window._pyforest_update_imports_cell('from sklearn.model_selection import train_test_split\\nimport matplotlib.pyplot as plt\\nimport statistics\\nimport sys\\nimport bokeh\\nimport sklearn\\nimport tensorflow as tf\\nimport seaborn as sns\\nimport pydot\\nfrom sklearn import svm\\nimport tqdm\\nimport xgboost as xgb\\nimport spacy\\nimport plotly as py\\nimport pickle\\nimport pandas as pd\\nimport matplotlib as mpl\\nimport plotly.express as px\\nimport altair as alt'); }\n",
              "    "
            ],
            "text/plain": [
              "<IPython.core.display.Javascript object>"
            ]
          },
          "metadata": {
            "tags": []
          }
        },
        {
          "output_type": "stream",
          "text": [
            "SCORE:\n",
            "0.8407941793069429\n",
            " 54%|█████▍    | 54/100 [04:47<04:00,  5.23s/it, best loss: -0.8411518066346035]"
          ],
          "name": "stdout"
        },
        {
          "output_type": "display_data",
          "data": {
            "application/javascript": [
              "\n",
              "        if (window._pyforest_update_imports_cell) { window._pyforest_update_imports_cell('from sklearn.model_selection import train_test_split\\nimport matplotlib.pyplot as plt\\nimport statistics\\nimport sys\\nimport bokeh\\nimport sklearn\\nimport tensorflow as tf\\nimport seaborn as sns\\nimport pydot\\nfrom sklearn import svm\\nimport tqdm\\nimport xgboost as xgb\\nimport spacy\\nimport plotly as py\\nimport pickle\\nimport pandas as pd\\nimport matplotlib as mpl\\nimport plotly.express as px\\nimport altair as alt'); }\n",
              "    "
            ],
            "text/plain": [
              "<IPython.core.display.Javascript object>"
            ]
          },
          "metadata": {
            "tags": []
          }
        },
        {
          "output_type": "stream",
          "text": [
            "SCORE:\n",
            "0.8411394746577876\n",
            " 55%|█████▌    | 55/100 [04:52<03:57,  5.29s/it, best loss: -0.8411518066346035]"
          ],
          "name": "stdout"
        },
        {
          "output_type": "display_data",
          "data": {
            "application/javascript": [
              "\n",
              "        if (window._pyforest_update_imports_cell) { window._pyforest_update_imports_cell('from sklearn.model_selection import train_test_split\\nimport matplotlib.pyplot as plt\\nimport statistics\\nimport sys\\nimport bokeh\\nimport sklearn\\nimport tensorflow as tf\\nimport seaborn as sns\\nimport pydot\\nfrom sklearn import svm\\nimport tqdm\\nimport xgboost as xgb\\nimport spacy\\nimport plotly as py\\nimport pickle\\nimport pandas as pd\\nimport matplotlib as mpl\\nimport plotly.express as px\\nimport altair as alt'); }\n",
              "    "
            ],
            "text/plain": [
              "<IPython.core.display.Javascript object>"
            ]
          },
          "metadata": {
            "tags": []
          }
        },
        {
          "output_type": "stream",
          "text": [
            "SCORE:\n",
            "0.8411518066346035\n",
            " 56%|█████▌    | 56/100 [04:58<03:53,  5.31s/it, best loss: -0.8411518066346035]"
          ],
          "name": "stdout"
        },
        {
          "output_type": "display_data",
          "data": {
            "application/javascript": [
              "\n",
              "        if (window._pyforest_update_imports_cell) { window._pyforest_update_imports_cell('from sklearn.model_selection import train_test_split\\nimport matplotlib.pyplot as plt\\nimport statistics\\nimport sys\\nimport bokeh\\nimport sklearn\\nimport tensorflow as tf\\nimport seaborn as sns\\nimport pydot\\nfrom sklearn import svm\\nimport tqdm\\nimport xgboost as xgb\\nimport spacy\\nimport plotly as py\\nimport pickle\\nimport pandas as pd\\nimport matplotlib as mpl\\nimport plotly.express as px\\nimport altair as alt'); }\n",
              "    "
            ],
            "text/plain": [
              "<IPython.core.display.Javascript object>"
            ]
          },
          "metadata": {
            "tags": []
          }
        },
        {
          "output_type": "stream",
          "text": [
            "SCORE:\n",
            "0.8411394746577876\n",
            " 57%|█████▋    | 57/100 [05:03<03:49,  5.34s/it, best loss: -0.8411518066346035]"
          ],
          "name": "stdout"
        },
        {
          "output_type": "display_data",
          "data": {
            "application/javascript": [
              "\n",
              "        if (window._pyforest_update_imports_cell) { window._pyforest_update_imports_cell('from sklearn.model_selection import train_test_split\\nimport matplotlib.pyplot as plt\\nimport statistics\\nimport sys\\nimport bokeh\\nimport sklearn\\nimport tensorflow as tf\\nimport seaborn as sns\\nimport pydot\\nfrom sklearn import svm\\nimport tqdm\\nimport xgboost as xgb\\nimport spacy\\nimport plotly as py\\nimport pickle\\nimport pandas as pd\\nimport matplotlib as mpl\\nimport plotly.express as px\\nimport altair as alt'); }\n",
              "    "
            ],
            "text/plain": [
              "<IPython.core.display.Javascript object>"
            ]
          },
          "metadata": {
            "tags": []
          }
        },
        {
          "output_type": "stream",
          "text": [
            "SCORE:\n",
            "0.8411394746577876\n",
            " 58%|█████▊    | 58/100 [05:09<03:46,  5.39s/it, best loss: -0.8411518066346035]"
          ],
          "name": "stdout"
        },
        {
          "output_type": "display_data",
          "data": {
            "application/javascript": [
              "\n",
              "        if (window._pyforest_update_imports_cell) { window._pyforest_update_imports_cell('from sklearn.model_selection import train_test_split\\nimport matplotlib.pyplot as plt\\nimport statistics\\nimport sys\\nimport bokeh\\nimport sklearn\\nimport tensorflow as tf\\nimport seaborn as sns\\nimport pydot\\nfrom sklearn import svm\\nimport tqdm\\nimport xgboost as xgb\\nimport spacy\\nimport plotly as py\\nimport pickle\\nimport pandas as pd\\nimport matplotlib as mpl\\nimport plotly.express as px\\nimport altair as alt'); }\n",
              "    "
            ],
            "text/plain": [
              "<IPython.core.display.Javascript object>"
            ]
          },
          "metadata": {
            "tags": []
          }
        },
        {
          "output_type": "stream",
          "text": [
            "SCORE:\n",
            "0.8409668269823652\n",
            " 59%|█████▉    | 59/100 [05:14<03:41,  5.40s/it, best loss: -0.8411518066346035]"
          ],
          "name": "stdout"
        },
        {
          "output_type": "display_data",
          "data": {
            "application/javascript": [
              "\n",
              "        if (window._pyforest_update_imports_cell) { window._pyforest_update_imports_cell('from sklearn.model_selection import train_test_split\\nimport matplotlib.pyplot as plt\\nimport statistics\\nimport sys\\nimport bokeh\\nimport sklearn\\nimport tensorflow as tf\\nimport seaborn as sns\\nimport pydot\\nfrom sklearn import svm\\nimport tqdm\\nimport xgboost as xgb\\nimport spacy\\nimport plotly as py\\nimport pickle\\nimport pandas as pd\\nimport matplotlib as mpl\\nimport plotly.express as px\\nimport altair as alt'); }\n",
              "    "
            ],
            "text/plain": [
              "<IPython.core.display.Javascript object>"
            ]
          },
          "metadata": {
            "tags": []
          }
        },
        {
          "output_type": "stream",
          "text": [
            "SCORE:\n",
            "0.8409544950055494\n",
            " 60%|██████    | 60/100 [05:19<03:35,  5.39s/it, best loss: -0.8411518066346035]"
          ],
          "name": "stdout"
        },
        {
          "output_type": "display_data",
          "data": {
            "application/javascript": [
              "\n",
              "        if (window._pyforest_update_imports_cell) { window._pyforest_update_imports_cell('from sklearn.model_selection import train_test_split\\nimport matplotlib.pyplot as plt\\nimport statistics\\nimport sys\\nimport bokeh\\nimport sklearn\\nimport tensorflow as tf\\nimport seaborn as sns\\nimport pydot\\nfrom sklearn import svm\\nimport tqdm\\nimport xgboost as xgb\\nimport spacy\\nimport plotly as py\\nimport pickle\\nimport pandas as pd\\nimport matplotlib as mpl\\nimport plotly.express as px\\nimport altair as alt'); }\n",
              "    "
            ],
            "text/plain": [
              "<IPython.core.display.Javascript object>"
            ]
          },
          "metadata": {
            "tags": []
          }
        },
        {
          "output_type": "stream",
          "text": [
            "SCORE:\n",
            "0.8411271426809718\n",
            " 61%|██████    | 61/100 [05:25<03:30,  5.40s/it, best loss: -0.8411518066346035]"
          ],
          "name": "stdout"
        },
        {
          "output_type": "display_data",
          "data": {
            "application/javascript": [
              "\n",
              "        if (window._pyforest_update_imports_cell) { window._pyforest_update_imports_cell('from sklearn.model_selection import train_test_split\\nimport matplotlib.pyplot as plt\\nimport statistics\\nimport sys\\nimport bokeh\\nimport sklearn\\nimport tensorflow as tf\\nimport seaborn as sns\\nimport pydot\\nfrom sklearn import svm\\nimport tqdm\\nimport xgboost as xgb\\nimport spacy\\nimport plotly as py\\nimport pickle\\nimport pandas as pd\\nimport matplotlib as mpl\\nimport plotly.express as px\\nimport altair as alt'); }\n",
              "    "
            ],
            "text/plain": [
              "<IPython.core.display.Javascript object>"
            ]
          },
          "metadata": {
            "tags": []
          }
        },
        {
          "output_type": "stream",
          "text": [
            "SCORE:\n",
            "0.8409298310519177\n",
            " 62%|██████▏   | 62/100 [05:30<03:23,  5.35s/it, best loss: -0.8411518066346035]"
          ],
          "name": "stdout"
        },
        {
          "output_type": "display_data",
          "data": {
            "application/javascript": [
              "\n",
              "        if (window._pyforest_update_imports_cell) { window._pyforest_update_imports_cell('from sklearn.model_selection import train_test_split\\nimport matplotlib.pyplot as plt\\nimport statistics\\nimport sys\\nimport bokeh\\nimport sklearn\\nimport tensorflow as tf\\nimport seaborn as sns\\nimport pydot\\nfrom sklearn import svm\\nimport tqdm\\nimport xgboost as xgb\\nimport spacy\\nimport plotly as py\\nimport pickle\\nimport pandas as pd\\nimport matplotlib as mpl\\nimport plotly.express as px\\nimport altair as alt'); }\n",
              "    "
            ],
            "text/plain": [
              "<IPython.core.display.Javascript object>"
            ]
          },
          "metadata": {
            "tags": []
          }
        },
        {
          "output_type": "stream",
          "text": [
            "SCORE:\n",
            "0.8409668269823652\n",
            " 63%|██████▎   | 63/100 [05:36<03:18,  5.36s/it, best loss: -0.8411518066346035]"
          ],
          "name": "stdout"
        },
        {
          "output_type": "display_data",
          "data": {
            "application/javascript": [
              "\n",
              "        if (window._pyforest_update_imports_cell) { window._pyforest_update_imports_cell('from sklearn.model_selection import train_test_split\\nimport matplotlib.pyplot as plt\\nimport statistics\\nimport sys\\nimport bokeh\\nimport sklearn\\nimport tensorflow as tf\\nimport seaborn as sns\\nimport pydot\\nfrom sklearn import svm\\nimport tqdm\\nimport xgboost as xgb\\nimport spacy\\nimport plotly as py\\nimport pickle\\nimport pandas as pd\\nimport matplotlib as mpl\\nimport plotly.express as px\\nimport altair as alt'); }\n",
              "    "
            ],
            "text/plain": [
              "<IPython.core.display.Javascript object>"
            ]
          },
          "metadata": {
            "tags": []
          }
        },
        {
          "output_type": "stream",
          "text": [
            "SCORE:\n",
            "0.8410654827968923\n",
            " 64%|██████▍   | 64/100 [05:41<03:12,  5.36s/it, best loss: -0.8411518066346035]"
          ],
          "name": "stdout"
        },
        {
          "output_type": "display_data",
          "data": {
            "application/javascript": [
              "\n",
              "        if (window._pyforest_update_imports_cell) { window._pyforest_update_imports_cell('from sklearn.model_selection import train_test_split\\nimport matplotlib.pyplot as plt\\nimport statistics\\nimport sys\\nimport bokeh\\nimport sklearn\\nimport tensorflow as tf\\nimport seaborn as sns\\nimport pydot\\nfrom sklearn import svm\\nimport tqdm\\nimport xgboost as xgb\\nimport spacy\\nimport plotly as py\\nimport pickle\\nimport pandas as pd\\nimport matplotlib as mpl\\nimport plotly.express as px\\nimport altair as alt'); }\n",
              "    "
            ],
            "text/plain": [
              "<IPython.core.display.Javascript object>"
            ]
          },
          "metadata": {
            "tags": []
          }
        },
        {
          "output_type": "stream",
          "text": [
            "SCORE:\n",
            "0.8411394746577876\n",
            " 65%|██████▌   | 65/100 [05:46<03:08,  5.39s/it, best loss: -0.8411518066346035]"
          ],
          "name": "stdout"
        },
        {
          "output_type": "display_data",
          "data": {
            "application/javascript": [
              "\n",
              "        if (window._pyforest_update_imports_cell) { window._pyforest_update_imports_cell('from sklearn.model_selection import train_test_split\\nimport matplotlib.pyplot as plt\\nimport statistics\\nimport sys\\nimport bokeh\\nimport sklearn\\nimport tensorflow as tf\\nimport seaborn as sns\\nimport pydot\\nfrom sklearn import svm\\nimport tqdm\\nimport xgboost as xgb\\nimport spacy\\nimport plotly as py\\nimport pickle\\nimport pandas as pd\\nimport matplotlib as mpl\\nimport plotly.express as px\\nimport altair as alt'); }\n",
              "    "
            ],
            "text/plain": [
              "<IPython.core.display.Javascript object>"
            ]
          },
          "metadata": {
            "tags": []
          }
        },
        {
          "output_type": "stream",
          "text": [
            "SCORE:\n",
            "0.8411518066346035\n",
            " 66%|██████▌   | 66/100 [05:52<03:04,  5.42s/it, best loss: -0.8411518066346035]"
          ],
          "name": "stdout"
        },
        {
          "output_type": "display_data",
          "data": {
            "application/javascript": [
              "\n",
              "        if (window._pyforest_update_imports_cell) { window._pyforest_update_imports_cell('from sklearn.model_selection import train_test_split\\nimport matplotlib.pyplot as plt\\nimport statistics\\nimport sys\\nimport bokeh\\nimport sklearn\\nimport tensorflow as tf\\nimport seaborn as sns\\nimport pydot\\nfrom sklearn import svm\\nimport tqdm\\nimport xgboost as xgb\\nimport spacy\\nimport plotly as py\\nimport pickle\\nimport pandas as pd\\nimport matplotlib as mpl\\nimport plotly.express as px\\nimport altair as alt'); }\n",
              "    "
            ],
            "text/plain": [
              "<IPython.core.display.Javascript object>"
            ]
          },
          "metadata": {
            "tags": []
          }
        },
        {
          "output_type": "stream",
          "text": [
            "SCORE:\n",
            "0.8411394746577876\n",
            " 67%|██████▋   | 67/100 [05:57<02:58,  5.42s/it, best loss: -0.8411518066346035]"
          ],
          "name": "stdout"
        },
        {
          "output_type": "display_data",
          "data": {
            "application/javascript": [
              "\n",
              "        if (window._pyforest_update_imports_cell) { window._pyforest_update_imports_cell('from sklearn.model_selection import train_test_split\\nimport matplotlib.pyplot as plt\\nimport statistics\\nimport sys\\nimport bokeh\\nimport sklearn\\nimport tensorflow as tf\\nimport seaborn as sns\\nimport pydot\\nfrom sklearn import svm\\nimport tqdm\\nimport xgboost as xgb\\nimport spacy\\nimport plotly as py\\nimport pickle\\nimport pandas as pd\\nimport matplotlib as mpl\\nimport plotly.express as px\\nimport altair as alt'); }\n",
              "    "
            ],
            "text/plain": [
              "<IPython.core.display.Javascript object>"
            ]
          },
          "metadata": {
            "tags": []
          }
        },
        {
          "output_type": "stream",
          "text": [
            "SCORE:\n",
            "0.8410408188432605\n",
            " 68%|██████▊   | 68/100 [06:03<02:53,  5.41s/it, best loss: -0.8411518066346035]"
          ],
          "name": "stdout"
        },
        {
          "output_type": "display_data",
          "data": {
            "application/javascript": [
              "\n",
              "        if (window._pyforest_update_imports_cell) { window._pyforest_update_imports_cell('from sklearn.model_selection import train_test_split\\nimport matplotlib.pyplot as plt\\nimport statistics\\nimport sys\\nimport bokeh\\nimport sklearn\\nimport tensorflow as tf\\nimport seaborn as sns\\nimport pydot\\nfrom sklearn import svm\\nimport tqdm\\nimport xgboost as xgb\\nimport spacy\\nimport plotly as py\\nimport pickle\\nimport pandas as pd\\nimport matplotlib as mpl\\nimport plotly.express as px\\nimport altair as alt'); }\n",
              "    "
            ],
            "text/plain": [
              "<IPython.core.display.Javascript object>"
            ]
          },
          "metadata": {
            "tags": []
          }
        },
        {
          "output_type": "stream",
          "text": [
            "SCORE:\n",
            "0.8410778147737082\n",
            " 69%|██████▉   | 69/100 [06:08<02:47,  5.40s/it, best loss: -0.8411518066346035]"
          ],
          "name": "stdout"
        },
        {
          "output_type": "display_data",
          "data": {
            "application/javascript": [
              "\n",
              "        if (window._pyforest_update_imports_cell) { window._pyforest_update_imports_cell('from sklearn.model_selection import train_test_split\\nimport matplotlib.pyplot as plt\\nimport statistics\\nimport sys\\nimport bokeh\\nimport sklearn\\nimport tensorflow as tf\\nimport seaborn as sns\\nimport pydot\\nfrom sklearn import svm\\nimport tqdm\\nimport xgboost as xgb\\nimport spacy\\nimport plotly as py\\nimport pickle\\nimport pandas as pd\\nimport matplotlib as mpl\\nimport plotly.express as px\\nimport altair as alt'); }\n",
              "    "
            ],
            "text/plain": [
              "<IPython.core.display.Javascript object>"
            ]
          },
          "metadata": {
            "tags": []
          }
        },
        {
          "output_type": "stream",
          "text": [
            "SCORE:\n",
            "0.8411518066346035\n",
            " 70%|███████   | 70/100 [06:13<02:42,  5.40s/it, best loss: -0.8411518066346035]"
          ],
          "name": "stdout"
        },
        {
          "output_type": "display_data",
          "data": {
            "application/javascript": [
              "\n",
              "        if (window._pyforest_update_imports_cell) { window._pyforest_update_imports_cell('from sklearn.model_selection import train_test_split\\nimport matplotlib.pyplot as plt\\nimport statistics\\nimport sys\\nimport bokeh\\nimport sklearn\\nimport tensorflow as tf\\nimport seaborn as sns\\nimport pydot\\nfrom sklearn import svm\\nimport tqdm\\nimport xgboost as xgb\\nimport spacy\\nimport plotly as py\\nimport pickle\\nimport pandas as pd\\nimport matplotlib as mpl\\nimport plotly.express as px\\nimport altair as alt'); }\n",
              "    "
            ],
            "text/plain": [
              "<IPython.core.display.Javascript object>"
            ]
          },
          "metadata": {
            "tags": []
          }
        },
        {
          "output_type": "stream",
          "text": [
            "SCORE:\n",
            "0.8410161548896288\n",
            " 71%|███████   | 71/100 [06:19<02:36,  5.40s/it, best loss: -0.8411518066346035]"
          ],
          "name": "stdout"
        },
        {
          "output_type": "display_data",
          "data": {
            "application/javascript": [
              "\n",
              "        if (window._pyforest_update_imports_cell) { window._pyforest_update_imports_cell('from sklearn.model_selection import train_test_split\\nimport matplotlib.pyplot as plt\\nimport statistics\\nimport sys\\nimport bokeh\\nimport sklearn\\nimport tensorflow as tf\\nimport seaborn as sns\\nimport pydot\\nfrom sklearn import svm\\nimport tqdm\\nimport xgboost as xgb\\nimport spacy\\nimport plotly as py\\nimport pickle\\nimport pandas as pd\\nimport matplotlib as mpl\\nimport plotly.express as px\\nimport altair as alt'); }\n",
              "    "
            ],
            "text/plain": [
              "<IPython.core.display.Javascript object>"
            ]
          },
          "metadata": {
            "tags": []
          }
        },
        {
          "output_type": "stream",
          "text": [
            "SCORE:\n",
            "0.8409791589591812\n",
            " 72%|███████▏  | 72/100 [06:24<02:31,  5.40s/it, best loss: -0.8411518066346035]"
          ],
          "name": "stdout"
        },
        {
          "output_type": "display_data",
          "data": {
            "application/javascript": [
              "\n",
              "        if (window._pyforest_update_imports_cell) { window._pyforest_update_imports_cell('from sklearn.model_selection import train_test_split\\nimport matplotlib.pyplot as plt\\nimport statistics\\nimport sys\\nimport bokeh\\nimport sklearn\\nimport tensorflow as tf\\nimport seaborn as sns\\nimport pydot\\nfrom sklearn import svm\\nimport tqdm\\nimport xgboost as xgb\\nimport spacy\\nimport plotly as py\\nimport pickle\\nimport pandas as pd\\nimport matplotlib as mpl\\nimport plotly.express as px\\nimport altair as alt'); }\n",
              "    "
            ],
            "text/plain": [
              "<IPython.core.display.Javascript object>"
            ]
          },
          "metadata": {
            "tags": []
          }
        },
        {
          "output_type": "stream",
          "text": [
            "SCORE:\n",
            "0.8410901467505241\n",
            " 73%|███████▎  | 73/100 [06:30<02:26,  5.44s/it, best loss: -0.8411518066346035]"
          ],
          "name": "stdout"
        },
        {
          "output_type": "display_data",
          "data": {
            "application/javascript": [
              "\n",
              "        if (window._pyforest_update_imports_cell) { window._pyforest_update_imports_cell('from sklearn.model_selection import train_test_split\\nimport matplotlib.pyplot as plt\\nimport statistics\\nimport sys\\nimport bokeh\\nimport sklearn\\nimport tensorflow as tf\\nimport seaborn as sns\\nimport pydot\\nfrom sklearn import svm\\nimport tqdm\\nimport xgboost as xgb\\nimport spacy\\nimport plotly as py\\nimport pickle\\nimport pandas as pd\\nimport matplotlib as mpl\\nimport plotly.express as px\\nimport altair as alt'); }\n",
              "    "
            ],
            "text/plain": [
              "<IPython.core.display.Javascript object>"
            ]
          },
          "metadata": {
            "tags": []
          }
        },
        {
          "output_type": "stream",
          "text": [
            "SCORE:\n",
            "0.8411518066346035\n",
            " 74%|███████▍  | 74/100 [06:35<02:21,  5.43s/it, best loss: -0.8411518066346035]"
          ],
          "name": "stdout"
        },
        {
          "output_type": "display_data",
          "data": {
            "application/javascript": [
              "\n",
              "        if (window._pyforest_update_imports_cell) { window._pyforest_update_imports_cell('from sklearn.model_selection import train_test_split\\nimport matplotlib.pyplot as plt\\nimport statistics\\nimport sys\\nimport bokeh\\nimport sklearn\\nimport tensorflow as tf\\nimport seaborn as sns\\nimport pydot\\nfrom sklearn import svm\\nimport tqdm\\nimport xgboost as xgb\\nimport spacy\\nimport plotly as py\\nimport pickle\\nimport pandas as pd\\nimport matplotlib as mpl\\nimport plotly.express as px\\nimport altair as alt'); }\n",
              "    "
            ],
            "text/plain": [
              "<IPython.core.display.Javascript object>"
            ]
          },
          "metadata": {
            "tags": []
          }
        },
        {
          "output_type": "stream",
          "text": [
            "SCORE:\n",
            "0.8411764705882353\n",
            " 75%|███████▌  | 75/100 [06:41<02:15,  5.42s/it, best loss: -0.8411764705882353]"
          ],
          "name": "stdout"
        },
        {
          "output_type": "display_data",
          "data": {
            "application/javascript": [
              "\n",
              "        if (window._pyforest_update_imports_cell) { window._pyforest_update_imports_cell('from sklearn.model_selection import train_test_split\\nimport matplotlib.pyplot as plt\\nimport statistics\\nimport sys\\nimport bokeh\\nimport sklearn\\nimport tensorflow as tf\\nimport seaborn as sns\\nimport pydot\\nfrom sklearn import svm\\nimport tqdm\\nimport xgboost as xgb\\nimport spacy\\nimport plotly as py\\nimport pickle\\nimport pandas as pd\\nimport matplotlib as mpl\\nimport plotly.express as px\\nimport altair as alt'); }\n",
              "    "
            ],
            "text/plain": [
              "<IPython.core.display.Javascript object>"
            ]
          },
          "metadata": {
            "tags": []
          }
        },
        {
          "output_type": "stream",
          "text": [
            "SCORE:\n",
            "0.8410161548896288\n",
            " 76%|███████▌  | 76/100 [06:46<02:09,  5.41s/it, best loss: -0.8411764705882353]"
          ],
          "name": "stdout"
        },
        {
          "output_type": "display_data",
          "data": {
            "application/javascript": [
              "\n",
              "        if (window._pyforest_update_imports_cell) { window._pyforest_update_imports_cell('from sklearn.model_selection import train_test_split\\nimport matplotlib.pyplot as plt\\nimport statistics\\nimport sys\\nimport bokeh\\nimport sklearn\\nimport tensorflow as tf\\nimport seaborn as sns\\nimport pydot\\nfrom sklearn import svm\\nimport tqdm\\nimport xgboost as xgb\\nimport spacy\\nimport plotly as py\\nimport pickle\\nimport pandas as pd\\nimport matplotlib as mpl\\nimport plotly.express as px\\nimport altair as alt'); }\n",
              "    "
            ],
            "text/plain": [
              "<IPython.core.display.Javascript object>"
            ]
          },
          "metadata": {
            "tags": []
          }
        },
        {
          "output_type": "stream",
          "text": [
            "SCORE:\n",
            "0.8411394746577876\n",
            " 77%|███████▋  | 77/100 [06:51<02:04,  5.42s/it, best loss: -0.8411764705882353]"
          ],
          "name": "stdout"
        },
        {
          "output_type": "display_data",
          "data": {
            "application/javascript": [
              "\n",
              "        if (window._pyforest_update_imports_cell) { window._pyforest_update_imports_cell('from sklearn.model_selection import train_test_split\\nimport matplotlib.pyplot as plt\\nimport statistics\\nimport sys\\nimport bokeh\\nimport sklearn\\nimport tensorflow as tf\\nimport seaborn as sns\\nimport pydot\\nfrom sklearn import svm\\nimport tqdm\\nimport xgboost as xgb\\nimport spacy\\nimport plotly as py\\nimport pickle\\nimport pandas as pd\\nimport matplotlib as mpl\\nimport plotly.express as px\\nimport altair as alt'); }\n",
              "    "
            ],
            "text/plain": [
              "<IPython.core.display.Javascript object>"
            ]
          },
          "metadata": {
            "tags": []
          }
        },
        {
          "output_type": "stream",
          "text": [
            "SCORE:\n",
            "0.8411394746577876\n",
            " 78%|███████▊  | 78/100 [06:57<01:59,  5.42s/it, best loss: -0.8411764705882353]"
          ],
          "name": "stdout"
        },
        {
          "output_type": "display_data",
          "data": {
            "application/javascript": [
              "\n",
              "        if (window._pyforest_update_imports_cell) { window._pyforest_update_imports_cell('from sklearn.model_selection import train_test_split\\nimport matplotlib.pyplot as plt\\nimport statistics\\nimport sys\\nimport bokeh\\nimport sklearn\\nimport tensorflow as tf\\nimport seaborn as sns\\nimport pydot\\nfrom sklearn import svm\\nimport tqdm\\nimport xgboost as xgb\\nimport spacy\\nimport plotly as py\\nimport pickle\\nimport pandas as pd\\nimport matplotlib as mpl\\nimport plotly.express as px\\nimport altair as alt'); }\n",
              "    "
            ],
            "text/plain": [
              "<IPython.core.display.Javascript object>"
            ]
          },
          "metadata": {
            "tags": []
          }
        },
        {
          "output_type": "stream",
          "text": [
            "SCORE:\n",
            "0.8408681711678382\n",
            " 79%|███████▉  | 79/100 [07:02<01:53,  5.38s/it, best loss: -0.8411764705882353]"
          ],
          "name": "stdout"
        },
        {
          "output_type": "display_data",
          "data": {
            "application/javascript": [
              "\n",
              "        if (window._pyforest_update_imports_cell) { window._pyforest_update_imports_cell('from sklearn.model_selection import train_test_split\\nimport matplotlib.pyplot as plt\\nimport statistics\\nimport sys\\nimport bokeh\\nimport sklearn\\nimport tensorflow as tf\\nimport seaborn as sns\\nimport pydot\\nfrom sklearn import svm\\nimport tqdm\\nimport xgboost as xgb\\nimport spacy\\nimport plotly as py\\nimport pickle\\nimport pandas as pd\\nimport matplotlib as mpl\\nimport plotly.express as px\\nimport altair as alt'); }\n",
              "    "
            ],
            "text/plain": [
              "<IPython.core.display.Javascript object>"
            ]
          },
          "metadata": {
            "tags": []
          }
        },
        {
          "output_type": "stream",
          "text": [
            "SCORE:\n",
            "0.8411764705882353\n",
            " 80%|████████  | 80/100 [07:07<01:47,  5.39s/it, best loss: -0.8411764705882353]"
          ],
          "name": "stdout"
        },
        {
          "output_type": "display_data",
          "data": {
            "application/javascript": [
              "\n",
              "        if (window._pyforest_update_imports_cell) { window._pyforest_update_imports_cell('from sklearn.model_selection import train_test_split\\nimport matplotlib.pyplot as plt\\nimport statistics\\nimport sys\\nimport bokeh\\nimport sklearn\\nimport tensorflow as tf\\nimport seaborn as sns\\nimport pydot\\nfrom sklearn import svm\\nimport tqdm\\nimport xgboost as xgb\\nimport spacy\\nimport plotly as py\\nimport pickle\\nimport pandas as pd\\nimport matplotlib as mpl\\nimport plotly.express as px\\nimport altair as alt'); }\n",
              "    "
            ],
            "text/plain": [
              "<IPython.core.display.Javascript object>"
            ]
          },
          "metadata": {
            "tags": []
          }
        },
        {
          "output_type": "stream",
          "text": [
            "SCORE:\n",
            "0.8410531508200765\n",
            " 81%|████████  | 81/100 [07:13<01:42,  5.39s/it, best loss: -0.8411764705882353]"
          ],
          "name": "stdout"
        },
        {
          "output_type": "display_data",
          "data": {
            "application/javascript": [
              "\n",
              "        if (window._pyforest_update_imports_cell) { window._pyforest_update_imports_cell('from sklearn.model_selection import train_test_split\\nimport matplotlib.pyplot as plt\\nimport statistics\\nimport sys\\nimport bokeh\\nimport sklearn\\nimport tensorflow as tf\\nimport seaborn as sns\\nimport pydot\\nfrom sklearn import svm\\nimport tqdm\\nimport xgboost as xgb\\nimport spacy\\nimport plotly as py\\nimport pickle\\nimport pandas as pd\\nimport matplotlib as mpl\\nimport plotly.express as px\\nimport altair as alt'); }\n",
              "    "
            ],
            "text/plain": [
              "<IPython.core.display.Javascript object>"
            ]
          },
          "metadata": {
            "tags": []
          }
        },
        {
          "output_type": "stream",
          "text": [
            "SCORE:\n",
            "0.8410654827968923\n",
            " 82%|████████▏ | 82/100 [07:18<01:36,  5.37s/it, best loss: -0.8411764705882353]"
          ],
          "name": "stdout"
        },
        {
          "output_type": "display_data",
          "data": {
            "application/javascript": [
              "\n",
              "        if (window._pyforest_update_imports_cell) { window._pyforest_update_imports_cell('from sklearn.model_selection import train_test_split\\nimport matplotlib.pyplot as plt\\nimport statistics\\nimport sys\\nimport bokeh\\nimport sklearn\\nimport tensorflow as tf\\nimport seaborn as sns\\nimport pydot\\nfrom sklearn import svm\\nimport tqdm\\nimport xgboost as xgb\\nimport spacy\\nimport plotly as py\\nimport pickle\\nimport pandas as pd\\nimport matplotlib as mpl\\nimport plotly.express as px\\nimport altair as alt'); }\n",
              "    "
            ],
            "text/plain": [
              "<IPython.core.display.Javascript object>"
            ]
          },
          "metadata": {
            "tags": []
          }
        },
        {
          "output_type": "stream",
          "text": [
            "SCORE:\n",
            "0.8409421630287335\n",
            " 83%|████████▎ | 83/100 [07:24<01:30,  5.35s/it, best loss: -0.8411764705882353]"
          ],
          "name": "stdout"
        },
        {
          "output_type": "display_data",
          "data": {
            "application/javascript": [
              "\n",
              "        if (window._pyforest_update_imports_cell) { window._pyforest_update_imports_cell('from sklearn.model_selection import train_test_split\\nimport matplotlib.pyplot as plt\\nimport statistics\\nimport sys\\nimport bokeh\\nimport sklearn\\nimport tensorflow as tf\\nimport seaborn as sns\\nimport pydot\\nfrom sklearn import svm\\nimport tqdm\\nimport xgboost as xgb\\nimport spacy\\nimport plotly as py\\nimport pickle\\nimport pandas as pd\\nimport matplotlib as mpl\\nimport plotly.express as px\\nimport altair as alt'); }\n",
              "    "
            ],
            "text/plain": [
              "<IPython.core.display.Javascript object>"
            ]
          },
          "metadata": {
            "tags": []
          }
        },
        {
          "output_type": "stream",
          "text": [
            "SCORE:\n",
            "0.8410654827968923\n",
            " 84%|████████▍ | 84/100 [07:29<01:24,  5.30s/it, best loss: -0.8411764705882353]"
          ],
          "name": "stdout"
        },
        {
          "output_type": "display_data",
          "data": {
            "application/javascript": [
              "\n",
              "        if (window._pyforest_update_imports_cell) { window._pyforest_update_imports_cell('from sklearn.model_selection import train_test_split\\nimport matplotlib.pyplot as plt\\nimport statistics\\nimport sys\\nimport bokeh\\nimport sklearn\\nimport tensorflow as tf\\nimport seaborn as sns\\nimport pydot\\nfrom sklearn import svm\\nimport tqdm\\nimport xgboost as xgb\\nimport spacy\\nimport plotly as py\\nimport pickle\\nimport pandas as pd\\nimport matplotlib as mpl\\nimport plotly.express as px\\nimport altair as alt'); }\n",
              "    "
            ],
            "text/plain": [
              "<IPython.core.display.Javascript object>"
            ]
          },
          "metadata": {
            "tags": []
          }
        },
        {
          "output_type": "stream",
          "text": [
            "SCORE:\n",
            "0.840991490935997\n",
            " 85%|████████▌ | 85/100 [07:34<01:19,  5.30s/it, best loss: -0.8411764705882353]"
          ],
          "name": "stdout"
        },
        {
          "output_type": "display_data",
          "data": {
            "application/javascript": [
              "\n",
              "        if (window._pyforest_update_imports_cell) { window._pyforest_update_imports_cell('from sklearn.model_selection import train_test_split\\nimport matplotlib.pyplot as plt\\nimport statistics\\nimport sys\\nimport bokeh\\nimport sklearn\\nimport tensorflow as tf\\nimport seaborn as sns\\nimport pydot\\nfrom sklearn import svm\\nimport tqdm\\nimport xgboost as xgb\\nimport spacy\\nimport plotly as py\\nimport pickle\\nimport pandas as pd\\nimport matplotlib as mpl\\nimport plotly.express as px\\nimport altair as alt'); }\n",
              "    "
            ],
            "text/plain": [
              "<IPython.core.display.Javascript object>"
            ]
          },
          "metadata": {
            "tags": []
          }
        },
        {
          "output_type": "stream",
          "text": [
            "SCORE:\n",
            "0.8410161548896288\n",
            " 86%|████████▌ | 86/100 [07:39<01:14,  5.33s/it, best loss: -0.8411764705882353]"
          ],
          "name": "stdout"
        },
        {
          "output_type": "display_data",
          "data": {
            "application/javascript": [
              "\n",
              "        if (window._pyforest_update_imports_cell) { window._pyforest_update_imports_cell('from sklearn.model_selection import train_test_split\\nimport matplotlib.pyplot as plt\\nimport statistics\\nimport sys\\nimport bokeh\\nimport sklearn\\nimport tensorflow as tf\\nimport seaborn as sns\\nimport pydot\\nfrom sklearn import svm\\nimport tqdm\\nimport xgboost as xgb\\nimport spacy\\nimport plotly as py\\nimport pickle\\nimport pandas as pd\\nimport matplotlib as mpl\\nimport plotly.express as px\\nimport altair as alt'); }\n",
              "    "
            ],
            "text/plain": [
              "<IPython.core.display.Javascript object>"
            ]
          },
          "metadata": {
            "tags": []
          }
        },
        {
          "output_type": "stream",
          "text": [
            "SCORE:\n",
            "0.8411518066346035\n",
            " 87%|████████▋ | 87/100 [07:45<01:09,  5.36s/it, best loss: -0.8411764705882353]"
          ],
          "name": "stdout"
        },
        {
          "output_type": "display_data",
          "data": {
            "application/javascript": [
              "\n",
              "        if (window._pyforest_update_imports_cell) { window._pyforest_update_imports_cell('from sklearn.model_selection import train_test_split\\nimport matplotlib.pyplot as plt\\nimport statistics\\nimport sys\\nimport bokeh\\nimport sklearn\\nimport tensorflow as tf\\nimport seaborn as sns\\nimport pydot\\nfrom sklearn import svm\\nimport tqdm\\nimport xgboost as xgb\\nimport spacy\\nimport plotly as py\\nimport pickle\\nimport pandas as pd\\nimport matplotlib as mpl\\nimport plotly.express as px\\nimport altair as alt'); }\n",
              "    "
            ],
            "text/plain": [
              "<IPython.core.display.Javascript object>"
            ]
          },
          "metadata": {
            "tags": []
          }
        },
        {
          "output_type": "stream",
          "text": [
            "SCORE:\n",
            "0.841003822912813\n",
            " 88%|████████▊ | 88/100 [07:50<01:03,  5.32s/it, best loss: -0.8411764705882353]"
          ],
          "name": "stdout"
        },
        {
          "output_type": "display_data",
          "data": {
            "application/javascript": [
              "\n",
              "        if (window._pyforest_update_imports_cell) { window._pyforest_update_imports_cell('from sklearn.model_selection import train_test_split\\nimport matplotlib.pyplot as plt\\nimport statistics\\nimport sys\\nimport bokeh\\nimport sklearn\\nimport tensorflow as tf\\nimport seaborn as sns\\nimport pydot\\nfrom sklearn import svm\\nimport tqdm\\nimport xgboost as xgb\\nimport spacy\\nimport plotly as py\\nimport pickle\\nimport pandas as pd\\nimport matplotlib as mpl\\nimport plotly.express as px\\nimport altair as alt'); }\n",
              "    "
            ],
            "text/plain": [
              "<IPython.core.display.Javascript object>"
            ]
          },
          "metadata": {
            "tags": []
          }
        },
        {
          "output_type": "stream",
          "text": [
            "SCORE:\n",
            "0.8411518066346035\n",
            " 89%|████████▉ | 89/100 [07:55<00:58,  5.28s/it, best loss: -0.8411764705882353]"
          ],
          "name": "stdout"
        },
        {
          "output_type": "display_data",
          "data": {
            "application/javascript": [
              "\n",
              "        if (window._pyforest_update_imports_cell) { window._pyforest_update_imports_cell('from sklearn.model_selection import train_test_split\\nimport matplotlib.pyplot as plt\\nimport statistics\\nimport sys\\nimport bokeh\\nimport sklearn\\nimport tensorflow as tf\\nimport seaborn as sns\\nimport pydot\\nfrom sklearn import svm\\nimport tqdm\\nimport xgboost as xgb\\nimport spacy\\nimport plotly as py\\nimport pickle\\nimport pandas as pd\\nimport matplotlib as mpl\\nimport plotly.express as px\\nimport altair as alt'); }\n",
              "    "
            ],
            "text/plain": [
              "<IPython.core.display.Javascript object>"
            ]
          },
          "metadata": {
            "tags": []
          }
        },
        {
          "output_type": "stream",
          "text": [
            "SCORE:\n",
            "0.8411518066346035\n",
            " 90%|█████████ | 90/100 [08:00<00:52,  5.26s/it, best loss: -0.8411764705882353]"
          ],
          "name": "stdout"
        },
        {
          "output_type": "display_data",
          "data": {
            "application/javascript": [
              "\n",
              "        if (window._pyforest_update_imports_cell) { window._pyforest_update_imports_cell('from sklearn.model_selection import train_test_split\\nimport matplotlib.pyplot as plt\\nimport statistics\\nimport sys\\nimport bokeh\\nimport sklearn\\nimport tensorflow as tf\\nimport seaborn as sns\\nimport pydot\\nfrom sklearn import svm\\nimport tqdm\\nimport xgboost as xgb\\nimport spacy\\nimport plotly as py\\nimport pickle\\nimport pandas as pd\\nimport matplotlib as mpl\\nimport plotly.express as px\\nimport altair as alt'); }\n",
              "    "
            ],
            "text/plain": [
              "<IPython.core.display.Javascript object>"
            ]
          },
          "metadata": {
            "tags": []
          }
        },
        {
          "output_type": "stream",
          "text": [
            "SCORE:\n",
            "0.8411518066346035\n",
            " 91%|█████████ | 91/100 [08:06<00:47,  5.29s/it, best loss: -0.8411764705882353]"
          ],
          "name": "stdout"
        },
        {
          "output_type": "display_data",
          "data": {
            "application/javascript": [
              "\n",
              "        if (window._pyforest_update_imports_cell) { window._pyforest_update_imports_cell('from sklearn.model_selection import train_test_split\\nimport matplotlib.pyplot as plt\\nimport statistics\\nimport sys\\nimport bokeh\\nimport sklearn\\nimport tensorflow as tf\\nimport seaborn as sns\\nimport pydot\\nfrom sklearn import svm\\nimport tqdm\\nimport xgboost as xgb\\nimport spacy\\nimport plotly as py\\nimport pickle\\nimport pandas as pd\\nimport matplotlib as mpl\\nimport plotly.express as px\\nimport altair as alt'); }\n",
              "    "
            ],
            "text/plain": [
              "<IPython.core.display.Javascript object>"
            ]
          },
          "metadata": {
            "tags": []
          }
        },
        {
          "output_type": "stream",
          "text": [
            "SCORE:\n",
            "0.8409668269823652\n",
            " 92%|█████████▏| 92/100 [08:11<00:42,  5.32s/it, best loss: -0.8411764705882353]"
          ],
          "name": "stdout"
        },
        {
          "output_type": "display_data",
          "data": {
            "application/javascript": [
              "\n",
              "        if (window._pyforest_update_imports_cell) { window._pyforest_update_imports_cell('from sklearn.model_selection import train_test_split\\nimport matplotlib.pyplot as plt\\nimport statistics\\nimport sys\\nimport bokeh\\nimport sklearn\\nimport tensorflow as tf\\nimport seaborn as sns\\nimport pydot\\nfrom sklearn import svm\\nimport tqdm\\nimport xgboost as xgb\\nimport spacy\\nimport plotly as py\\nimport pickle\\nimport pandas as pd\\nimport matplotlib as mpl\\nimport plotly.express as px\\nimport altair as alt'); }\n",
              "    "
            ],
            "text/plain": [
              "<IPython.core.display.Javascript object>"
            ]
          },
          "metadata": {
            "tags": []
          }
        },
        {
          "output_type": "stream",
          "text": [
            "SCORE:\n",
            "0.8411641386114194\n",
            " 93%|█████████▎| 93/100 [08:17<00:37,  5.35s/it, best loss: -0.8411764705882353]"
          ],
          "name": "stdout"
        },
        {
          "output_type": "display_data",
          "data": {
            "application/javascript": [
              "\n",
              "        if (window._pyforest_update_imports_cell) { window._pyforest_update_imports_cell('from sklearn.model_selection import train_test_split\\nimport matplotlib.pyplot as plt\\nimport statistics\\nimport sys\\nimport bokeh\\nimport sklearn\\nimport tensorflow as tf\\nimport seaborn as sns\\nimport pydot\\nfrom sklearn import svm\\nimport tqdm\\nimport xgboost as xgb\\nimport spacy\\nimport plotly as py\\nimport pickle\\nimport pandas as pd\\nimport matplotlib as mpl\\nimport plotly.express as px\\nimport altair as alt'); }\n",
              "    "
            ],
            "text/plain": [
              "<IPython.core.display.Javascript object>"
            ]
          },
          "metadata": {
            "tags": []
          }
        },
        {
          "output_type": "stream",
          "text": [
            "SCORE:\n",
            "0.8411641386114194\n",
            " 94%|█████████▍| 94/100 [08:22<00:32,  5.38s/it, best loss: -0.8411764705882353]"
          ],
          "name": "stdout"
        },
        {
          "output_type": "display_data",
          "data": {
            "application/javascript": [
              "\n",
              "        if (window._pyforest_update_imports_cell) { window._pyforest_update_imports_cell('from sklearn.model_selection import train_test_split\\nimport matplotlib.pyplot as plt\\nimport statistics\\nimport sys\\nimport bokeh\\nimport sklearn\\nimport tensorflow as tf\\nimport seaborn as sns\\nimport pydot\\nfrom sklearn import svm\\nimport tqdm\\nimport xgboost as xgb\\nimport spacy\\nimport plotly as py\\nimport pickle\\nimport pandas as pd\\nimport matplotlib as mpl\\nimport plotly.express as px\\nimport altair as alt'); }\n",
              "    "
            ],
            "text/plain": [
              "<IPython.core.display.Javascript object>"
            ]
          },
          "metadata": {
            "tags": []
          }
        },
        {
          "output_type": "stream",
          "text": [
            "SCORE:\n",
            "0.8410531508200765\n",
            " 95%|█████████▌| 95/100 [08:27<00:26,  5.38s/it, best loss: -0.8411764705882353]"
          ],
          "name": "stdout"
        },
        {
          "output_type": "display_data",
          "data": {
            "application/javascript": [
              "\n",
              "        if (window._pyforest_update_imports_cell) { window._pyforest_update_imports_cell('from sklearn.model_selection import train_test_split\\nimport matplotlib.pyplot as plt\\nimport statistics\\nimport sys\\nimport bokeh\\nimport sklearn\\nimport tensorflow as tf\\nimport seaborn as sns\\nimport pydot\\nfrom sklearn import svm\\nimport tqdm\\nimport xgboost as xgb\\nimport spacy\\nimport plotly as py\\nimport pickle\\nimport pandas as pd\\nimport matplotlib as mpl\\nimport plotly.express as px\\nimport altair as alt'); }\n",
              "    "
            ],
            "text/plain": [
              "<IPython.core.display.Javascript object>"
            ]
          },
          "metadata": {
            "tags": []
          }
        },
        {
          "output_type": "stream",
          "text": [
            "SCORE:\n",
            "0.8411641386114194\n",
            " 96%|█████████▌| 96/100 [08:33<00:21,  5.38s/it, best loss: -0.8411764705882353]"
          ],
          "name": "stdout"
        },
        {
          "output_type": "display_data",
          "data": {
            "application/javascript": [
              "\n",
              "        if (window._pyforest_update_imports_cell) { window._pyforest_update_imports_cell('from sklearn.model_selection import train_test_split\\nimport matplotlib.pyplot as plt\\nimport statistics\\nimport sys\\nimport bokeh\\nimport sklearn\\nimport tensorflow as tf\\nimport seaborn as sns\\nimport pydot\\nfrom sklearn import svm\\nimport tqdm\\nimport xgboost as xgb\\nimport spacy\\nimport plotly as py\\nimport pickle\\nimport pandas as pd\\nimport matplotlib as mpl\\nimport plotly.express as px\\nimport altair as alt'); }\n",
              "    "
            ],
            "text/plain": [
              "<IPython.core.display.Javascript object>"
            ]
          },
          "metadata": {
            "tags": []
          }
        },
        {
          "output_type": "stream",
          "text": [
            "SCORE:\n",
            "0.8410531508200765\n",
            " 97%|█████████▋| 97/100 [08:38<00:16,  5.36s/it, best loss: -0.8411764705882353]"
          ],
          "name": "stdout"
        },
        {
          "output_type": "display_data",
          "data": {
            "application/javascript": [
              "\n",
              "        if (window._pyforest_update_imports_cell) { window._pyforest_update_imports_cell('from sklearn.model_selection import train_test_split\\nimport matplotlib.pyplot as plt\\nimport statistics\\nimport sys\\nimport bokeh\\nimport sklearn\\nimport tensorflow as tf\\nimport seaborn as sns\\nimport pydot\\nfrom sklearn import svm\\nimport tqdm\\nimport xgboost as xgb\\nimport spacy\\nimport plotly as py\\nimport pickle\\nimport pandas as pd\\nimport matplotlib as mpl\\nimport plotly.express as px\\nimport altair as alt'); }\n",
              "    "
            ],
            "text/plain": [
              "<IPython.core.display.Javascript object>"
            ]
          },
          "metadata": {
            "tags": []
          }
        },
        {
          "output_type": "stream",
          "text": [
            "SCORE:\n",
            "0.8410408188432605\n",
            " 98%|█████████▊| 98/100 [08:44<00:10,  5.37s/it, best loss: -0.8411764705882353]"
          ],
          "name": "stdout"
        },
        {
          "output_type": "display_data",
          "data": {
            "application/javascript": [
              "\n",
              "        if (window._pyforest_update_imports_cell) { window._pyforest_update_imports_cell('from sklearn.model_selection import train_test_split\\nimport matplotlib.pyplot as plt\\nimport statistics\\nimport sys\\nimport bokeh\\nimport sklearn\\nimport tensorflow as tf\\nimport seaborn as sns\\nimport pydot\\nfrom sklearn import svm\\nimport tqdm\\nimport xgboost as xgb\\nimport spacy\\nimport plotly as py\\nimport pickle\\nimport pandas as pd\\nimport matplotlib as mpl\\nimport plotly.express as px\\nimport altair as alt'); }\n",
              "    "
            ],
            "text/plain": [
              "<IPython.core.display.Javascript object>"
            ]
          },
          "metadata": {
            "tags": []
          }
        },
        {
          "output_type": "stream",
          "text": [
            "SCORE:\n",
            "0.840991490935997\n",
            " 99%|█████████▉| 99/100 [08:49<00:05,  5.37s/it, best loss: -0.8411764705882353]"
          ],
          "name": "stdout"
        },
        {
          "output_type": "display_data",
          "data": {
            "application/javascript": [
              "\n",
              "        if (window._pyforest_update_imports_cell) { window._pyforest_update_imports_cell('from sklearn.model_selection import train_test_split\\nimport matplotlib.pyplot as plt\\nimport statistics\\nimport sys\\nimport bokeh\\nimport sklearn\\nimport tensorflow as tf\\nimport seaborn as sns\\nimport pydot\\nfrom sklearn import svm\\nimport tqdm\\nimport xgboost as xgb\\nimport spacy\\nimport plotly as py\\nimport pickle\\nimport pandas as pd\\nimport matplotlib as mpl\\nimport plotly.express as px\\nimport altair as alt'); }\n",
              "    "
            ],
            "text/plain": [
              "<IPython.core.display.Javascript object>"
            ]
          },
          "metadata": {
            "tags": []
          }
        },
        {
          "output_type": "stream",
          "text": [
            "SCORE:\n",
            "0.841003822912813\n",
            "100%|██████████| 100/100 [08:54<00:00,  5.35s/it, best loss: -0.8411764705882353]\n"
          ],
          "name": "stdout"
        }
      ]
    },
    {
      "cell_type": "code",
      "metadata": {
        "colab": {
          "base_uri": "https://localhost:8080/"
        },
        "id": "wr8gukFe0Zxb",
        "outputId": "fa05a8a1-3369-4b35-c8a5-0aa43db2058a"
      },
      "source": [
        "print(\"The best hyperparameters are : \",\"\\n\")\n",
        "print(best_hyperparams)"
      ],
      "execution_count": 38,
      "outputs": [
        {
          "output_type": "stream",
          "text": [
            "The best hyperparameters are :  \n",
            "\n",
            "{'colsample_bytree': 0.5165783450825292, 'gamma': 8.998183947400266, 'max_depth': 6.0, 'min_child_weight': 8.0, 'reg_alpha': 56.0, 'reg_lambda': 0.3269958829037349}\n"
          ],
          "name": "stdout"
        }
      ]
    },
    {
      "cell_type": "code",
      "metadata": {
        "colab": {
          "base_uri": "https://localhost:8080/"
        },
        "id": "syjSggPh0YsI",
        "outputId": "5ecc9104-1dd1-4168-fb12-d98d676f3e8e"
      },
      "source": [
        "xgbc = XGBClassifier(\n",
        "    colsample_bytree = 0.5165783450825292, \n",
        "    gamma = 8.998183947400266, \n",
        "    max_depth = 6, \n",
        "    min_child_weight = 8, \n",
        "    reg_alpha = 56.0, \n",
        "    reg_lambda = 0.3269958829037349\n",
        ")\n",
        "\n",
        "xgbc.fit(x_train, y_train)\n",
        "\n",
        "xgbc_accuracies = cross_val_score(xgbc, X=x_test, y=y_test, cv=10)\n",
        "\n",
        "print('Accuracies\" \\n', xgbc_accuracies)\n",
        "print()\n",
        "print('Mean Accuracy: ', xgbc_accuracies.mean())"
      ],
      "execution_count": 39,
      "outputs": [
        {
          "output_type": "stream",
          "text": [
            "Accuracies\" \n",
            " [0.86015538 0.8590455  0.85855223 0.85645579 0.86817117 0.86200518\n",
            " 0.86126526 0.85793563 0.86003206 0.85978542]\n",
            "\n",
            "Mean Accuracy:  0.8603403625601184\n"
          ],
          "name": "stdout"
        }
      ]
    },
    {
      "cell_type": "code",
      "metadata": {
        "colab": {
          "base_uri": "https://localhost:8080/"
        },
        "id": "kinuXHWmwGHN",
        "outputId": "03c1caa1-148b-4081-bf41-d6c38e3fa340"
      },
      "source": [
        "from sklearn.ensemble import RandomForestClassifier\n",
        "rf = RandomForestClassifier(n_estimators=200, \n",
        "                               criterion='gini', \n",
        "                               min_samples_split=5, \n",
        "                               min_samples_leaf=2, \n",
        "                               max_features='auto', \n",
        "                               bootstrap=True, \n",
        "                               n_jobs=-1, \n",
        "                               random_state=42)\n",
        "rf.fit(x_train,y_train)\n",
        "\n",
        "rf_accuracies = cross_val_score(rf, X=x_test, y=y_test, cv=10)\n",
        "\n",
        "print('Accuracies\" \\n', rf_accuracies)\n",
        "print()\n",
        "print('Mean Accuracy: ', rf_accuracies.mean())"
      ],
      "execution_count": 40,
      "outputs": [
        {
          "output_type": "stream",
          "text": [
            "Accuracies\" \n",
            " [0.85731903 0.85596251 0.8590455  0.85398939 0.86508817 0.86262178\n",
            " 0.85682575 0.85226292 0.85781231 0.8533728 ]\n",
            "\n",
            "Mean Accuracy:  0.85743001603157\n"
          ],
          "name": "stdout"
        }
      ]
    },
    {
      "cell_type": "code",
      "metadata": {
        "colab": {
          "base_uri": "https://localhost:8080/",
          "height": 17
        },
        "id": "5W85rMUFwF7E",
        "outputId": "dfbd3948-7a09-4eda-f00d-a742257ace59"
      },
      "source": [
        "from sklearn.model_selection import RandomizedSearchCV\n",
        "\n",
        "# Number of trees in random forest\n",
        "n_estimators = [int(x) for x in range(200,2000,200)]\n",
        "\n",
        "# Number of features to consider at every split\n",
        "max_features = ['auto', 'sqrt']\n",
        "\n",
        "# Maximum number of levels in tree\n",
        "max_depth = [int(x) for x in np.linspace(10, 110, num = 11)]\n",
        "\n",
        "max_depth.append(None)\n",
        "\n",
        "# Minimum number of samples required to split a node\n",
        "min_samples_split = [2, 5, 10]\n",
        "\n",
        "# Minimum number of samples required at each leaf node\n",
        "min_samples_leaf = [1, 2, 4]\n",
        "\n",
        "# Method of selecting samples for training each tree\n",
        "bootstrap = [True, False]\n",
        "\n",
        "# Create the random grid\n",
        "random_grid = {'n_estimators': n_estimators,\n",
        "               'max_features': max_features,\n",
        "               'max_depth': max_depth,\n",
        "               'min_samples_split': min_samples_split,\n",
        "               'min_samples_leaf': min_samples_leaf,\n",
        "               'bootstrap': bootstrap}"
      ],
      "execution_count": 41,
      "outputs": [
        {
          "output_type": "display_data",
          "data": {
            "application/javascript": [
              "\n",
              "        if (window._pyforest_update_imports_cell) { window._pyforest_update_imports_cell('from sklearn.model_selection import train_test_split\\nimport matplotlib.pyplot as plt\\nimport statistics\\nimport sys\\nimport bokeh\\nimport sklearn\\nimport numpy as np\\nimport tensorflow as tf\\nimport seaborn as sns\\nimport pydot\\nfrom sklearn import svm\\nimport tqdm\\nimport xgboost as xgb\\nimport spacy\\nimport re\\nimport plotly as py\\nimport pickle\\nimport pandas as pd\\nimport matplotlib as mpl\\nimport plotly.express as px\\nimport altair as alt'); }\n",
              "    "
            ],
            "text/plain": [
              "<IPython.core.display.Javascript object>"
            ]
          },
          "metadata": {
            "tags": []
          }
        }
      ]
    },
    {
      "cell_type": "code",
      "metadata": {
        "colab": {
          "base_uri": "https://localhost:8080/"
        },
        "id": "KiJhOZ6_v9yT",
        "outputId": "ee1e8290-1946-4335-dd19-6cec2b6179a9"
      },
      "source": [
        "# Use the random grid to search for best hyperparameters\n",
        "# First create the base model to tune\n",
        "rf = RandomForestClassifier()\n",
        "# Random search of parameters, using 3 fold cross validation, \n",
        "# search across 100 different combinations, and use all available cores\n",
        "rf_random = RandomizedSearchCV(estimator = rf, param_distributions = random_grid, \n",
        "                               n_iter = 100, cv = 3, verbose=2, random_state=42, \n",
        "                               n_jobs = -1)\n",
        "# Fit the random search model\n",
        "rf_random.fit(x_train, y_train)"
      ],
      "execution_count": null,
      "outputs": [
        {
          "output_type": "stream",
          "text": [
            "Fitting 3 folds for each of 100 candidates, totalling 300 fits\n"
          ],
          "name": "stdout"
        },
        {
          "output_type": "stream",
          "text": [
            "[Parallel(n_jobs=-1)]: Using backend LokyBackend with 2 concurrent workers.\n",
            "[Parallel(n_jobs=-1)]: Done  37 tasks      | elapsed: 105.5min\n"
          ],
          "name": "stderr"
        }
      ]
    },
    {
      "cell_type": "code",
      "metadata": {
        "id": "p6b--Xij3YOh"
      },
      "source": [
        "rf_accuracies = cross_val_score(rf, X=x_test, y=y_test, cv=10)\n",
        "\n",
        "print('Accuracies\" \\n', rf_accuracies)\n",
        "print()\n",
        "print('Mean Accuracy: ', rf_accuracies.mean())"
      ],
      "execution_count": null,
      "outputs": []
    },
    {
      "cell_type": "code",
      "metadata": {
        "id": "MBDPpFZu3yBp"
      },
      "source": [
        ""
      ],
      "execution_count": null,
      "outputs": []
    }
  ]
}